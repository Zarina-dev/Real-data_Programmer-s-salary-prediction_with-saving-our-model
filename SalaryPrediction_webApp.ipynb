{
 "cells": [
  {
   "cell_type": "markdown",
   "id": "db0d7f60",
   "metadata": {},
   "source": [
    "https://www.youtube.com/watch?v=xl0N7tHiwlw"
   ]
  },
  {
   "cell_type": "code",
   "execution_count": 1,
   "id": "f6e12898",
   "metadata": {},
   "outputs": [],
   "source": [
    "import pandas as pd\n",
    "import numpy as np\n",
    "import matplotlib.pyplot as plt"
   ]
  },
  {
   "cell_type": "code",
   "execution_count": 255,
   "id": "96bfbf74",
   "metadata": {},
   "outputs": [
    {
     "data": {
      "text/html": [
       "<div>\n",
       "<style scoped>\n",
       "    .dataframe tbody tr th:only-of-type {\n",
       "        vertical-align: middle;\n",
       "    }\n",
       "\n",
       "    .dataframe tbody tr th {\n",
       "        vertical-align: top;\n",
       "    }\n",
       "\n",
       "    .dataframe thead th {\n",
       "        text-align: right;\n",
       "    }\n",
       "</style>\n",
       "<table border=\"1\" class=\"dataframe\">\n",
       "  <thead>\n",
       "    <tr style=\"text-align: right;\">\n",
       "      <th></th>\n",
       "      <th>ResponseId</th>\n",
       "      <th>MainBranch</th>\n",
       "      <th>Employment</th>\n",
       "      <th>Country</th>\n",
       "      <th>US_State</th>\n",
       "      <th>UK_Country</th>\n",
       "      <th>EdLevel</th>\n",
       "      <th>Age1stCode</th>\n",
       "      <th>LearnCode</th>\n",
       "      <th>YearsCode</th>\n",
       "      <th>...</th>\n",
       "      <th>Age</th>\n",
       "      <th>Gender</th>\n",
       "      <th>Trans</th>\n",
       "      <th>Sexuality</th>\n",
       "      <th>Ethnicity</th>\n",
       "      <th>Accessibility</th>\n",
       "      <th>MentalHealth</th>\n",
       "      <th>SurveyLength</th>\n",
       "      <th>SurveyEase</th>\n",
       "      <th>ConvertedCompYearly</th>\n",
       "    </tr>\n",
       "  </thead>\n",
       "  <tbody>\n",
       "    <tr>\n",
       "      <th>0</th>\n",
       "      <td>1</td>\n",
       "      <td>I am a developer by profession</td>\n",
       "      <td>Independent contractor, freelancer, or self-em...</td>\n",
       "      <td>Slovakia</td>\n",
       "      <td>NaN</td>\n",
       "      <td>NaN</td>\n",
       "      <td>Secondary school (e.g. American high school, G...</td>\n",
       "      <td>18 - 24 years</td>\n",
       "      <td>Coding Bootcamp;Other online resources (ex: vi...</td>\n",
       "      <td>NaN</td>\n",
       "      <td>...</td>\n",
       "      <td>25-34 years old</td>\n",
       "      <td>Man</td>\n",
       "      <td>No</td>\n",
       "      <td>Straight / Heterosexual</td>\n",
       "      <td>White or of European descent</td>\n",
       "      <td>None of the above</td>\n",
       "      <td>None of the above</td>\n",
       "      <td>Appropriate in length</td>\n",
       "      <td>Easy</td>\n",
       "      <td>62268.0</td>\n",
       "    </tr>\n",
       "    <tr>\n",
       "      <th>1</th>\n",
       "      <td>2</td>\n",
       "      <td>I am a student who is learning to code</td>\n",
       "      <td>Student, full-time</td>\n",
       "      <td>Netherlands</td>\n",
       "      <td>NaN</td>\n",
       "      <td>NaN</td>\n",
       "      <td>Bachelor’s degree (B.A., B.S., B.Eng., etc.)</td>\n",
       "      <td>11 - 17 years</td>\n",
       "      <td>Other online resources (ex: videos, blogs, etc...</td>\n",
       "      <td>7</td>\n",
       "      <td>...</td>\n",
       "      <td>18-24 years old</td>\n",
       "      <td>Man</td>\n",
       "      <td>No</td>\n",
       "      <td>Straight / Heterosexual</td>\n",
       "      <td>White or of European descent</td>\n",
       "      <td>None of the above</td>\n",
       "      <td>None of the above</td>\n",
       "      <td>Appropriate in length</td>\n",
       "      <td>Easy</td>\n",
       "      <td>NaN</td>\n",
       "    </tr>\n",
       "    <tr>\n",
       "      <th>2</th>\n",
       "      <td>3</td>\n",
       "      <td>I am not primarily a developer, but I write co...</td>\n",
       "      <td>Student, full-time</td>\n",
       "      <td>Russian Federation</td>\n",
       "      <td>NaN</td>\n",
       "      <td>NaN</td>\n",
       "      <td>Bachelor’s degree (B.A., B.S., B.Eng., etc.)</td>\n",
       "      <td>11 - 17 years</td>\n",
       "      <td>Other online resources (ex: videos, blogs, etc...</td>\n",
       "      <td>NaN</td>\n",
       "      <td>...</td>\n",
       "      <td>18-24 years old</td>\n",
       "      <td>Man</td>\n",
       "      <td>No</td>\n",
       "      <td>Prefer not to say</td>\n",
       "      <td>Prefer not to say</td>\n",
       "      <td>None of the above</td>\n",
       "      <td>None of the above</td>\n",
       "      <td>Appropriate in length</td>\n",
       "      <td>Easy</td>\n",
       "      <td>NaN</td>\n",
       "    </tr>\n",
       "    <tr>\n",
       "      <th>3</th>\n",
       "      <td>4</td>\n",
       "      <td>I am a developer by profession</td>\n",
       "      <td>Employed full-time</td>\n",
       "      <td>Austria</td>\n",
       "      <td>NaN</td>\n",
       "      <td>NaN</td>\n",
       "      <td>Master’s degree (M.A., M.S., M.Eng., MBA, etc.)</td>\n",
       "      <td>11 - 17 years</td>\n",
       "      <td>NaN</td>\n",
       "      <td>NaN</td>\n",
       "      <td>...</td>\n",
       "      <td>35-44 years old</td>\n",
       "      <td>Man</td>\n",
       "      <td>No</td>\n",
       "      <td>Straight / Heterosexual</td>\n",
       "      <td>White or of European descent</td>\n",
       "      <td>I am deaf / hard of hearing</td>\n",
       "      <td>NaN</td>\n",
       "      <td>Appropriate in length</td>\n",
       "      <td>Neither easy nor difficult</td>\n",
       "      <td>NaN</td>\n",
       "    </tr>\n",
       "    <tr>\n",
       "      <th>4</th>\n",
       "      <td>5</td>\n",
       "      <td>I am a developer by profession</td>\n",
       "      <td>Independent contractor, freelancer, or self-em...</td>\n",
       "      <td>United Kingdom of Great Britain and Northern I...</td>\n",
       "      <td>NaN</td>\n",
       "      <td>England</td>\n",
       "      <td>Master’s degree (M.A., M.S., M.Eng., MBA, etc.)</td>\n",
       "      <td>5 - 10 years</td>\n",
       "      <td>Friend or family member</td>\n",
       "      <td>17</td>\n",
       "      <td>...</td>\n",
       "      <td>25-34 years old</td>\n",
       "      <td>Man</td>\n",
       "      <td>No</td>\n",
       "      <td>NaN</td>\n",
       "      <td>White or of European descent</td>\n",
       "      <td>None of the above</td>\n",
       "      <td>NaN</td>\n",
       "      <td>Appropriate in length</td>\n",
       "      <td>Easy</td>\n",
       "      <td>NaN</td>\n",
       "    </tr>\n",
       "  </tbody>\n",
       "</table>\n",
       "<p>5 rows × 48 columns</p>\n",
       "</div>"
      ],
      "text/plain": [
       "   ResponseId                                         MainBranch  \\\n",
       "0           1                     I am a developer by profession   \n",
       "1           2             I am a student who is learning to code   \n",
       "2           3  I am not primarily a developer, but I write co...   \n",
       "3           4                     I am a developer by profession   \n",
       "4           5                     I am a developer by profession   \n",
       "\n",
       "                                          Employment  \\\n",
       "0  Independent contractor, freelancer, or self-em...   \n",
       "1                                 Student, full-time   \n",
       "2                                 Student, full-time   \n",
       "3                                 Employed full-time   \n",
       "4  Independent contractor, freelancer, or self-em...   \n",
       "\n",
       "                                             Country US_State UK_Country  \\\n",
       "0                                           Slovakia      NaN        NaN   \n",
       "1                                        Netherlands      NaN        NaN   \n",
       "2                                 Russian Federation      NaN        NaN   \n",
       "3                                            Austria      NaN        NaN   \n",
       "4  United Kingdom of Great Britain and Northern I...      NaN    England   \n",
       "\n",
       "                                             EdLevel     Age1stCode  \\\n",
       "0  Secondary school (e.g. American high school, G...  18 - 24 years   \n",
       "1       Bachelor’s degree (B.A., B.S., B.Eng., etc.)  11 - 17 years   \n",
       "2       Bachelor’s degree (B.A., B.S., B.Eng., etc.)  11 - 17 years   \n",
       "3    Master’s degree (M.A., M.S., M.Eng., MBA, etc.)  11 - 17 years   \n",
       "4    Master’s degree (M.A., M.S., M.Eng., MBA, etc.)   5 - 10 years   \n",
       "\n",
       "                                           LearnCode YearsCode  ...  \\\n",
       "0  Coding Bootcamp;Other online resources (ex: vi...       NaN  ...   \n",
       "1  Other online resources (ex: videos, blogs, etc...         7  ...   \n",
       "2  Other online resources (ex: videos, blogs, etc...       NaN  ...   \n",
       "3                                                NaN       NaN  ...   \n",
       "4                            Friend or family member        17  ...   \n",
       "\n",
       "               Age Gender Trans                Sexuality  \\\n",
       "0  25-34 years old    Man    No  Straight / Heterosexual   \n",
       "1  18-24 years old    Man    No  Straight / Heterosexual   \n",
       "2  18-24 years old    Man    No        Prefer not to say   \n",
       "3  35-44 years old    Man    No  Straight / Heterosexual   \n",
       "4  25-34 years old    Man    No                      NaN   \n",
       "\n",
       "                      Ethnicity                Accessibility  \\\n",
       "0  White or of European descent            None of the above   \n",
       "1  White or of European descent            None of the above   \n",
       "2             Prefer not to say            None of the above   \n",
       "3  White or of European descent  I am deaf / hard of hearing   \n",
       "4  White or of European descent            None of the above   \n",
       "\n",
       "        MentalHealth           SurveyLength                  SurveyEase  \\\n",
       "0  None of the above  Appropriate in length                        Easy   \n",
       "1  None of the above  Appropriate in length                        Easy   \n",
       "2  None of the above  Appropriate in length                        Easy   \n",
       "3                NaN  Appropriate in length  Neither easy nor difficult   \n",
       "4                NaN  Appropriate in length                        Easy   \n",
       "\n",
       "  ConvertedCompYearly  \n",
       "0             62268.0  \n",
       "1                 NaN  \n",
       "2                 NaN  \n",
       "3                 NaN  \n",
       "4                 NaN  \n",
       "\n",
       "[5 rows x 48 columns]"
      ]
     },
     "execution_count": 255,
     "metadata": {},
     "output_type": "execute_result"
    }
   ],
   "source": [
    "df = pd.read_csv('survey_results_public.csv')\n",
    "df.head()"
   ]
  },
  {
   "cell_type": "code",
   "execution_count": 4,
   "id": "43105190",
   "metadata": {},
   "outputs": [
    {
     "data": {
      "text/plain": [
       "Index(['ResponseId', 'MainBranch', 'Employment', 'Country', 'US_State',\n",
       "       'UK_Country', 'EdLevel', 'Age1stCode', 'LearnCode', 'YearsCode',\n",
       "       'YearsCodePro', 'DevType', 'OrgSize', 'Currency', 'CompTotal',\n",
       "       'CompFreq', 'LanguageHaveWorkedWith', 'LanguageWantToWorkWith',\n",
       "       'DatabaseHaveWorkedWith', 'DatabaseWantToWorkWith',\n",
       "       'PlatformHaveWorkedWith', 'PlatformWantToWorkWith',\n",
       "       'WebframeHaveWorkedWith', 'WebframeWantToWorkWith',\n",
       "       'MiscTechHaveWorkedWith', 'MiscTechWantToWorkWith',\n",
       "       'ToolsTechHaveWorkedWith', 'ToolsTechWantToWorkWith',\n",
       "       'NEWCollabToolsHaveWorkedWith', 'NEWCollabToolsWantToWorkWith', 'OpSys',\n",
       "       'NEWStuck', 'NEWSOSites', 'SOVisitFreq', 'SOAccount', 'SOPartFreq',\n",
       "       'SOComm', 'NEWOtherComms', 'Age', 'Gender', 'Trans', 'Sexuality',\n",
       "       'Ethnicity', 'Accessibility', 'MentalHealth', 'SurveyLength',\n",
       "       'SurveyEase', 'ConvertedCompYearly'],\n",
       "      dtype='object')"
      ]
     },
     "execution_count": 4,
     "metadata": {},
     "output_type": "execute_result"
    }
   ],
   "source": [
    "df.columns"
   ]
  },
  {
   "cell_type": "code",
   "execution_count": 256,
   "id": "001030c2",
   "metadata": {
    "scrolled": true
   },
   "outputs": [],
   "source": [
    "df = df[['Country','EdLevel','YearsCodePro','Employment','ConvertedCompYearly']]"
   ]
  },
  {
   "cell_type": "code",
   "execution_count": 257,
   "id": "7475b448",
   "metadata": {},
   "outputs": [],
   "source": [
    "df = df.rename({'ConvertedCompYearly':'Salary'},axis = 1)"
   ]
  },
  {
   "cell_type": "code",
   "execution_count": 258,
   "id": "09ef4643",
   "metadata": {},
   "outputs": [
    {
     "data": {
      "text/html": [
       "<div>\n",
       "<style scoped>\n",
       "    .dataframe tbody tr th:only-of-type {\n",
       "        vertical-align: middle;\n",
       "    }\n",
       "\n",
       "    .dataframe tbody tr th {\n",
       "        vertical-align: top;\n",
       "    }\n",
       "\n",
       "    .dataframe thead th {\n",
       "        text-align: right;\n",
       "    }\n",
       "</style>\n",
       "<table border=\"1\" class=\"dataframe\">\n",
       "  <thead>\n",
       "    <tr style=\"text-align: right;\">\n",
       "      <th></th>\n",
       "      <th>Country</th>\n",
       "      <th>EdLevel</th>\n",
       "      <th>YearsCodePro</th>\n",
       "      <th>Employment</th>\n",
       "      <th>Salary</th>\n",
       "    </tr>\n",
       "  </thead>\n",
       "  <tbody>\n",
       "    <tr>\n",
       "      <th>0</th>\n",
       "      <td>Slovakia</td>\n",
       "      <td>Secondary school (e.g. American high school, G...</td>\n",
       "      <td>NaN</td>\n",
       "      <td>Independent contractor, freelancer, or self-em...</td>\n",
       "      <td>62268.0</td>\n",
       "    </tr>\n",
       "    <tr>\n",
       "      <th>1</th>\n",
       "      <td>Netherlands</td>\n",
       "      <td>Bachelor’s degree (B.A., B.S., B.Eng., etc.)</td>\n",
       "      <td>NaN</td>\n",
       "      <td>Student, full-time</td>\n",
       "      <td>NaN</td>\n",
       "    </tr>\n",
       "    <tr>\n",
       "      <th>2</th>\n",
       "      <td>Russian Federation</td>\n",
       "      <td>Bachelor’s degree (B.A., B.S., B.Eng., etc.)</td>\n",
       "      <td>NaN</td>\n",
       "      <td>Student, full-time</td>\n",
       "      <td>NaN</td>\n",
       "    </tr>\n",
       "    <tr>\n",
       "      <th>3</th>\n",
       "      <td>Austria</td>\n",
       "      <td>Master’s degree (M.A., M.S., M.Eng., MBA, etc.)</td>\n",
       "      <td>NaN</td>\n",
       "      <td>Employed full-time</td>\n",
       "      <td>NaN</td>\n",
       "    </tr>\n",
       "    <tr>\n",
       "      <th>4</th>\n",
       "      <td>United Kingdom of Great Britain and Northern I...</td>\n",
       "      <td>Master’s degree (M.A., M.S., M.Eng., MBA, etc.)</td>\n",
       "      <td>10</td>\n",
       "      <td>Independent contractor, freelancer, or self-em...</td>\n",
       "      <td>NaN</td>\n",
       "    </tr>\n",
       "    <tr>\n",
       "      <th>...</th>\n",
       "      <td>...</td>\n",
       "      <td>...</td>\n",
       "      <td>...</td>\n",
       "      <td>...</td>\n",
       "      <td>...</td>\n",
       "    </tr>\n",
       "    <tr>\n",
       "      <th>83434</th>\n",
       "      <td>United States of America</td>\n",
       "      <td>Bachelor’s degree (B.A., B.S., B.Eng., etc.)</td>\n",
       "      <td>5</td>\n",
       "      <td>Employed full-time</td>\n",
       "      <td>160500.0</td>\n",
       "    </tr>\n",
       "    <tr>\n",
       "      <th>83435</th>\n",
       "      <td>Benin</td>\n",
       "      <td>Bachelor’s degree (B.A., B.S., B.Eng., etc.)</td>\n",
       "      <td>2</td>\n",
       "      <td>Independent contractor, freelancer, or self-em...</td>\n",
       "      <td>3960.0</td>\n",
       "    </tr>\n",
       "    <tr>\n",
       "      <th>83436</th>\n",
       "      <td>United States of America</td>\n",
       "      <td>Secondary school (e.g. American high school, G...</td>\n",
       "      <td>4</td>\n",
       "      <td>Employed full-time</td>\n",
       "      <td>90000.0</td>\n",
       "    </tr>\n",
       "    <tr>\n",
       "      <th>83437</th>\n",
       "      <td>Canada</td>\n",
       "      <td>Bachelor’s degree (B.A., B.S., B.Eng., etc.)</td>\n",
       "      <td>3</td>\n",
       "      <td>Employed full-time</td>\n",
       "      <td>816816.0</td>\n",
       "    </tr>\n",
       "    <tr>\n",
       "      <th>83438</th>\n",
       "      <td>Brazil</td>\n",
       "      <td>Professional degree (JD, MD, etc.)</td>\n",
       "      <td>4</td>\n",
       "      <td>Employed full-time</td>\n",
       "      <td>21168.0</td>\n",
       "    </tr>\n",
       "  </tbody>\n",
       "</table>\n",
       "<p>83439 rows × 5 columns</p>\n",
       "</div>"
      ],
      "text/plain": [
       "                                                 Country  \\\n",
       "0                                               Slovakia   \n",
       "1                                            Netherlands   \n",
       "2                                     Russian Federation   \n",
       "3                                                Austria   \n",
       "4      United Kingdom of Great Britain and Northern I...   \n",
       "...                                                  ...   \n",
       "83434                           United States of America   \n",
       "83435                                              Benin   \n",
       "83436                           United States of America   \n",
       "83437                                             Canada   \n",
       "83438                                             Brazil   \n",
       "\n",
       "                                                 EdLevel YearsCodePro  \\\n",
       "0      Secondary school (e.g. American high school, G...          NaN   \n",
       "1           Bachelor’s degree (B.A., B.S., B.Eng., etc.)          NaN   \n",
       "2           Bachelor’s degree (B.A., B.S., B.Eng., etc.)          NaN   \n",
       "3        Master’s degree (M.A., M.S., M.Eng., MBA, etc.)          NaN   \n",
       "4        Master’s degree (M.A., M.S., M.Eng., MBA, etc.)           10   \n",
       "...                                                  ...          ...   \n",
       "83434       Bachelor’s degree (B.A., B.S., B.Eng., etc.)            5   \n",
       "83435       Bachelor’s degree (B.A., B.S., B.Eng., etc.)            2   \n",
       "83436  Secondary school (e.g. American high school, G...            4   \n",
       "83437       Bachelor’s degree (B.A., B.S., B.Eng., etc.)            3   \n",
       "83438                 Professional degree (JD, MD, etc.)            4   \n",
       "\n",
       "                                              Employment    Salary  \n",
       "0      Independent contractor, freelancer, or self-em...   62268.0  \n",
       "1                                     Student, full-time       NaN  \n",
       "2                                     Student, full-time       NaN  \n",
       "3                                     Employed full-time       NaN  \n",
       "4      Independent contractor, freelancer, or self-em...       NaN  \n",
       "...                                                  ...       ...  \n",
       "83434                                 Employed full-time  160500.0  \n",
       "83435  Independent contractor, freelancer, or self-em...    3960.0  \n",
       "83436                                 Employed full-time   90000.0  \n",
       "83437                                 Employed full-time  816816.0  \n",
       "83438                                 Employed full-time   21168.0  \n",
       "\n",
       "[83439 rows x 5 columns]"
      ]
     },
     "execution_count": 258,
     "metadata": {},
     "output_type": "execute_result"
    }
   ],
   "source": [
    "df"
   ]
  },
  {
   "cell_type": "code",
   "execution_count": 22,
   "id": "d4b14119",
   "metadata": {},
   "outputs": [
    {
     "name": "stdout",
     "output_type": "stream",
     "text": [
      "<class 'pandas.core.frame.DataFrame'>\n",
      "Int64Index: 83439 entries, 0 to 83438\n",
      "Data columns (total 5 columns):\n",
      " #   Column        Non-Null Count  Dtype  \n",
      "---  ------        --------------  -----  \n",
      " 0   Country       83439 non-null  object \n",
      " 1   EdLevel       83126 non-null  object \n",
      " 2   YearsCodePro  61216 non-null  object \n",
      " 3   Employment    83323 non-null  object \n",
      " 4   Salary        46844 non-null  float64\n",
      "dtypes: float64(1), object(4)\n",
      "memory usage: 3.8+ MB\n"
     ]
    }
   ],
   "source": [
    "df.info()"
   ]
  },
  {
   "cell_type": "code",
   "execution_count": 23,
   "id": "61352cfb",
   "metadata": {},
   "outputs": [
    {
     "name": "stdout",
     "output_type": "stream",
     "text": [
      "Country : 0\n",
      "EdLevel : 313\n",
      "YearsCodePro : 22223\n",
      "Employment : 116\n",
      "Salary : 36595\n"
     ]
    },
    {
     "data": {
      "text/plain": [
       "[None, None, None, None, None]"
      ]
     },
     "execution_count": 23,
     "metadata": {},
     "output_type": "execute_result"
    }
   ],
   "source": [
    "[print(f'{col} : {df[col].isnull().sum()}') for col in df.columns]"
   ]
  },
  {
   "cell_type": "code",
   "execution_count": 259,
   "id": "bab03ac9",
   "metadata": {},
   "outputs": [],
   "source": [
    "df = df[df['Salary'].isnull()!=True] #== df[df['Salary'].notnull()]"
   ]
  },
  {
   "cell_type": "code",
   "execution_count": 260,
   "id": "3abdbe57",
   "metadata": {},
   "outputs": [
    {
     "data": {
      "text/plain": [
       "(46844, 5)"
      ]
     },
     "execution_count": 260,
     "metadata": {},
     "output_type": "execute_result"
    }
   ],
   "source": [
    "df.shape"
   ]
  },
  {
   "cell_type": "code",
   "execution_count": 120,
   "id": "29698cfd",
   "metadata": {},
   "outputs": [
    {
     "name": "stdout",
     "output_type": "stream",
     "text": [
      "Country : 0\n",
      "EdLevel : 21\n",
      "YearsCodePro : 453\n",
      "Employment : 13\n",
      "Salary : 0\n"
     ]
    },
    {
     "data": {
      "text/plain": [
       "[None, None, None, None, None]"
      ]
     },
     "execution_count": 120,
     "metadata": {},
     "output_type": "execute_result"
    }
   ],
   "source": [
    "[print(f'{col} : {df[col].isnull().sum()}') for col in df.columns]"
   ]
  },
  {
   "cell_type": "code",
   "execution_count": 121,
   "id": "a1364da4",
   "metadata": {},
   "outputs": [
    {
     "name": "stdout",
     "output_type": "stream",
     "text": [
      "<class 'pandas.core.frame.DataFrame'>\n",
      "Int64Index: 46844 entries, 0 to 83438\n",
      "Data columns (total 5 columns):\n",
      " #   Column        Non-Null Count  Dtype  \n",
      "---  ------        --------------  -----  \n",
      " 0   Country       46844 non-null  object \n",
      " 1   EdLevel       46823 non-null  object \n",
      " 2   YearsCodePro  46391 non-null  object \n",
      " 3   Employment    46831 non-null  object \n",
      " 4   Salary        46844 non-null  float64\n",
      "dtypes: float64(1), object(4)\n",
      "memory usage: 2.1+ MB\n"
     ]
    }
   ],
   "source": [
    "df.info()"
   ]
  },
  {
   "cell_type": "code",
   "execution_count": 261,
   "id": "955c6ac5",
   "metadata": {},
   "outputs": [
    {
     "data": {
      "text/html": [
       "<div>\n",
       "<style scoped>\n",
       "    .dataframe tbody tr th:only-of-type {\n",
       "        vertical-align: middle;\n",
       "    }\n",
       "\n",
       "    .dataframe tbody tr th {\n",
       "        vertical-align: top;\n",
       "    }\n",
       "\n",
       "    .dataframe thead th {\n",
       "        text-align: right;\n",
       "    }\n",
       "</style>\n",
       "<table border=\"1\" class=\"dataframe\">\n",
       "  <thead>\n",
       "    <tr style=\"text-align: right;\">\n",
       "      <th></th>\n",
       "      <th>Country</th>\n",
       "      <th>EdLevel</th>\n",
       "      <th>YearsCodePro</th>\n",
       "      <th>Employment</th>\n",
       "      <th>Salary</th>\n",
       "    </tr>\n",
       "  </thead>\n",
       "  <tbody>\n",
       "    <tr>\n",
       "      <th>9</th>\n",
       "      <td>Sweden</td>\n",
       "      <td>Master’s degree (M.A., M.S., M.Eng., MBA, etc.)</td>\n",
       "      <td>4</td>\n",
       "      <td>Employed full-time</td>\n",
       "      <td>51552.0</td>\n",
       "    </tr>\n",
       "    <tr>\n",
       "      <th>11</th>\n",
       "      <td>Spain</td>\n",
       "      <td>Bachelor’s degree (B.A., B.S., B.Eng., etc.)</td>\n",
       "      <td>5</td>\n",
       "      <td>Employed full-time</td>\n",
       "      <td>46482.0</td>\n",
       "    </tr>\n",
       "    <tr>\n",
       "      <th>12</th>\n",
       "      <td>Germany</td>\n",
       "      <td>Master’s degree (M.A., M.S., M.Eng., MBA, etc.)</td>\n",
       "      <td>6</td>\n",
       "      <td>Employed full-time</td>\n",
       "      <td>77290.0</td>\n",
       "    </tr>\n",
       "    <tr>\n",
       "      <th>16</th>\n",
       "      <td>Turkey</td>\n",
       "      <td>Bachelor’s degree (B.A., B.S., B.Eng., etc.)</td>\n",
       "      <td>2</td>\n",
       "      <td>Employed full-time</td>\n",
       "      <td>17748.0</td>\n",
       "    </tr>\n",
       "    <tr>\n",
       "      <th>17</th>\n",
       "      <td>Canada</td>\n",
       "      <td>Bachelor’s degree (B.A., B.S., B.Eng., etc.)</td>\n",
       "      <td>6</td>\n",
       "      <td>Employed full-time</td>\n",
       "      <td>46135.0</td>\n",
       "    </tr>\n",
       "    <tr>\n",
       "      <th>...</th>\n",
       "      <td>...</td>\n",
       "      <td>...</td>\n",
       "      <td>...</td>\n",
       "      <td>...</td>\n",
       "      <td>...</td>\n",
       "    </tr>\n",
       "    <tr>\n",
       "      <th>83434</th>\n",
       "      <td>United States of America</td>\n",
       "      <td>Bachelor’s degree (B.A., B.S., B.Eng., etc.)</td>\n",
       "      <td>5</td>\n",
       "      <td>Employed full-time</td>\n",
       "      <td>160500.0</td>\n",
       "    </tr>\n",
       "    <tr>\n",
       "      <th>83435</th>\n",
       "      <td>Benin</td>\n",
       "      <td>Bachelor’s degree (B.A., B.S., B.Eng., etc.)</td>\n",
       "      <td>2</td>\n",
       "      <td>Independent contractor, freelancer, or self-em...</td>\n",
       "      <td>3960.0</td>\n",
       "    </tr>\n",
       "    <tr>\n",
       "      <th>83436</th>\n",
       "      <td>United States of America</td>\n",
       "      <td>Secondary school (e.g. American high school, G...</td>\n",
       "      <td>4</td>\n",
       "      <td>Employed full-time</td>\n",
       "      <td>90000.0</td>\n",
       "    </tr>\n",
       "    <tr>\n",
       "      <th>83437</th>\n",
       "      <td>Canada</td>\n",
       "      <td>Bachelor’s degree (B.A., B.S., B.Eng., etc.)</td>\n",
       "      <td>3</td>\n",
       "      <td>Employed full-time</td>\n",
       "      <td>816816.0</td>\n",
       "    </tr>\n",
       "    <tr>\n",
       "      <th>83438</th>\n",
       "      <td>Brazil</td>\n",
       "      <td>Professional degree (JD, MD, etc.)</td>\n",
       "      <td>4</td>\n",
       "      <td>Employed full-time</td>\n",
       "      <td>21168.0</td>\n",
       "    </tr>\n",
       "  </tbody>\n",
       "</table>\n",
       "<p>46359 rows × 5 columns</p>\n",
       "</div>"
      ],
      "text/plain": [
       "                        Country  \\\n",
       "9                        Sweden   \n",
       "11                        Spain   \n",
       "12                      Germany   \n",
       "16                       Turkey   \n",
       "17                       Canada   \n",
       "...                         ...   \n",
       "83434  United States of America   \n",
       "83435                     Benin   \n",
       "83436  United States of America   \n",
       "83437                    Canada   \n",
       "83438                    Brazil   \n",
       "\n",
       "                                                 EdLevel YearsCodePro  \\\n",
       "9        Master’s degree (M.A., M.S., M.Eng., MBA, etc.)            4   \n",
       "11          Bachelor’s degree (B.A., B.S., B.Eng., etc.)            5   \n",
       "12       Master’s degree (M.A., M.S., M.Eng., MBA, etc.)            6   \n",
       "16          Bachelor’s degree (B.A., B.S., B.Eng., etc.)            2   \n",
       "17          Bachelor’s degree (B.A., B.S., B.Eng., etc.)            6   \n",
       "...                                                  ...          ...   \n",
       "83434       Bachelor’s degree (B.A., B.S., B.Eng., etc.)            5   \n",
       "83435       Bachelor’s degree (B.A., B.S., B.Eng., etc.)            2   \n",
       "83436  Secondary school (e.g. American high school, G...            4   \n",
       "83437       Bachelor’s degree (B.A., B.S., B.Eng., etc.)            3   \n",
       "83438                 Professional degree (JD, MD, etc.)            4   \n",
       "\n",
       "                                              Employment    Salary  \n",
       "9                                     Employed full-time   51552.0  \n",
       "11                                    Employed full-time   46482.0  \n",
       "12                                    Employed full-time   77290.0  \n",
       "16                                    Employed full-time   17748.0  \n",
       "17                                    Employed full-time   46135.0  \n",
       "...                                                  ...       ...  \n",
       "83434                                 Employed full-time  160500.0  \n",
       "83435  Independent contractor, freelancer, or self-em...    3960.0  \n",
       "83436                                 Employed full-time   90000.0  \n",
       "83437                                 Employed full-time  816816.0  \n",
       "83438                                 Employed full-time   21168.0  \n",
       "\n",
       "[46359 rows x 5 columns]"
      ]
     },
     "execution_count": 261,
     "metadata": {},
     "output_type": "execute_result"
    }
   ],
   "source": [
    "df = df.dropna()\n",
    "df"
   ]
  },
  {
   "cell_type": "code",
   "execution_count": 123,
   "id": "1236d342",
   "metadata": {},
   "outputs": [
    {
     "data": {
      "text/plain": [
       "Country         0\n",
       "EdLevel         0\n",
       "YearsCodePro    0\n",
       "Employment      0\n",
       "Salary          0\n",
       "dtype: int64"
      ]
     },
     "execution_count": 123,
     "metadata": {},
     "output_type": "execute_result"
    }
   ],
   "source": [
    "df.isnull().sum()"
   ]
  },
  {
   "cell_type": "code",
   "execution_count": 124,
   "id": "1c200561",
   "metadata": {},
   "outputs": [
    {
     "name": "stdout",
     "output_type": "stream",
     "text": [
      "Country:['Sweden' 'Spain' 'Germany' 'Turkey' 'Canada' 'Singapore' 'France'\n",
      " 'Switzerland' 'United Kingdom of Great Britain and Northern Ireland'\n",
      " 'Russian Federation' 'Israel' 'Ukraine' 'United States of America'\n",
      " 'Brazil' 'Bulgaria' 'Greece' 'Italy' 'Netherlands' 'Poland' 'Hungary'\n",
      " 'Pakistan' 'Nigeria' 'Albania' 'Bangladesh' 'Austria' 'Viet Nam'\n",
      " 'Romania' 'Sri Lanka' 'India' 'Lithuania' 'Slovenia' 'Croatia' 'Georgia'\n",
      " 'Denmark' 'Ireland' 'Lebanon' 'Bahrain' 'Egypt' 'Colombia' 'Australia'\n",
      " 'Belgium' 'Chile' 'Indonesia' 'Iran, Islamic Republic of...' 'Portugal'\n",
      " 'Slovakia' 'Armenia' 'Finland' 'Hong Kong (S.A.R.)' 'Argentina'\n",
      " 'Costa Rica' 'Peru' 'Japan' 'United Arab Emirates' 'Bolivia'\n",
      " 'South Africa' 'Norway' 'Serbia' 'Malta' 'Malaysia' 'Czech Republic'\n",
      " 'Belarus' 'Madagascar' 'Kenya' 'Uruguay'\n",
      " 'The former Yugoslav Republic of Macedonia' 'Botswana' 'Algeria' 'China'\n",
      " 'Mexico' 'Cyprus' 'Venezuela, Bolivarian Republic of...' 'Jordan'\n",
      " 'Dominican Republic' 'Ecuador' 'Luxembourg' 'Uzbekistan'\n",
      " 'Syrian Arab Republic' 'Zambia' 'Taiwan' 'Tunisia' 'South Korea'\n",
      " 'Paraguay' 'Iceland' 'Morocco' 'Guatemala' 'Cameroon'\n",
      " 'Republic of Moldova' 'Nepal' 'Kazakhstan' 'Estonia' 'Panama' 'Ethiopia'\n",
      " 'Cuba' 'Latvia' \"Lao People's Democratic Republic\" 'Yemen' 'Thailand'\n",
      " 'Democratic Republic of the Congo' 'Somalia' 'Iraq' 'Philippines'\n",
      " 'Azerbaijan' 'Saudi Arabia' 'Honduras' 'Angola' 'Bosnia and Herzegovina'\n",
      " 'United Republic of Tanzania' 'El Salvador' 'Kosovo' 'Andorra'\n",
      " 'New Zealand' 'Dominica' 'Nomadic' 'Nicaragua' 'Mozambique'\n",
      " 'Trinidad and Tobago' 'Barbados' 'Mauritius' 'Kuwait' 'Gambia' 'Ghana'\n",
      " 'Congo, Republic of the...' 'Mauritania' 'Myanmar' 'Republic of Korea'\n",
      " 'Cambodia' 'Kyrgyzstan' 'Afghanistan' 'Uganda' 'Swaziland'\n",
      " 'Saint Kitts and Nevis' 'Rwanda' 'Monaco' 'Turkmenistan'\n",
      " 'Libyan Arab Jamahiriya' 'Sudan' 'Montenegro' 'Isle of Man' 'Qatar'\n",
      " 'Haiti' 'Belize' 'Benin' 'Bhutan' 'Palestine' 'Mongolia' 'Tajikistan'\n",
      " 'Cape Verde' 'Oman' \"Côte d'Ivoire\" 'Zimbabwe' 'Jamaica' 'Guyana'\n",
      " 'Namibia' 'Togo' 'Lesotho' 'Guinea' 'Senegal' 'Liberia' 'Suriname'\n",
      " 'Niger' 'Maldives' 'Saint Lucia' 'Djibouti' 'Malawi' 'San Marino'\n",
      " 'Saint Vincent and the Grenadines' 'Burkina Faso' 'Fiji' 'Burundi'\n",
      " 'North Korea'] \n",
      "\n",
      "EdLevel:['Master’s degree (M.A., M.S., M.Eng., MBA, etc.)'\n",
      " 'Bachelor’s degree (B.A., B.S., B.Eng., etc.)'\n",
      " 'Other doctoral degree (Ph.D., Ed.D., etc.)'\n",
      " 'Some college/university study without earning a degree'\n",
      " 'Professional degree (JD, MD, etc.)' 'Something else'\n",
      " 'Primary/elementary school' 'Associate degree (A.A., A.S., etc.)'\n",
      " 'Secondary school (e.g. American high school, German Realschule or Gymnasium, etc.)'] \n",
      "\n",
      "YearsCodePro:['4' '5' '6' '2' '30' '18' '21' '16' '10' 'Less than 1 year' '15' '3' '1'\n",
      " '12' '8' '7' '17' '14' '26' '25' '34' '11' '24' '22' '13' '9' '20' '31'\n",
      " '23' '39' '27' '35' '19' '33' 'More than 50 years' '37' '43' '40' '29'\n",
      " '38' '32' '45' '42' '28' '46' '36' '44' '47' '41' '50' '49' '48'] \n",
      "\n",
      "Employment:['Employed full-time' 'I prefer not to say'\n",
      " 'Independent contractor, freelancer, or self-employed'\n",
      " 'Employed part-time' 'Retired'] \n",
      "\n",
      "Salary:[  51552.   46482.   77290. ... 4300000.  160500.  816816.] \n",
      "\n"
     ]
    },
    {
     "data": {
      "text/plain": [
       "[None, None, None, None, None]"
      ]
     },
     "execution_count": 124,
     "metadata": {},
     "output_type": "execute_result"
    }
   ],
   "source": [
    "[print(f'{col}:{df[col].unique()} \\n') for col in df.columns]"
   ]
  },
  {
   "cell_type": "code",
   "execution_count": 262,
   "id": "55c6f431",
   "metadata": {},
   "outputs": [],
   "source": [
    "# get only employeds\n",
    "df = df[df['Employment']=='Employed full-time']"
   ]
  },
  {
   "cell_type": "code",
   "execution_count": 263,
   "id": "110e8e71",
   "metadata": {},
   "outputs": [
    {
     "data": {
      "text/html": [
       "<div>\n",
       "<style scoped>\n",
       "    .dataframe tbody tr th:only-of-type {\n",
       "        vertical-align: middle;\n",
       "    }\n",
       "\n",
       "    .dataframe tbody tr th {\n",
       "        vertical-align: top;\n",
       "    }\n",
       "\n",
       "    .dataframe thead th {\n",
       "        text-align: right;\n",
       "    }\n",
       "</style>\n",
       "<table border=\"1\" class=\"dataframe\">\n",
       "  <thead>\n",
       "    <tr style=\"text-align: right;\">\n",
       "      <th></th>\n",
       "      <th>Country</th>\n",
       "      <th>EdLevel</th>\n",
       "      <th>YearsCodePro</th>\n",
       "      <th>Employment</th>\n",
       "      <th>Salary</th>\n",
       "    </tr>\n",
       "  </thead>\n",
       "  <tbody>\n",
       "    <tr>\n",
       "      <th>9</th>\n",
       "      <td>Sweden</td>\n",
       "      <td>Master’s degree (M.A., M.S., M.Eng., MBA, etc.)</td>\n",
       "      <td>4</td>\n",
       "      <td>Employed full-time</td>\n",
       "      <td>51552.0</td>\n",
       "    </tr>\n",
       "    <tr>\n",
       "      <th>11</th>\n",
       "      <td>Spain</td>\n",
       "      <td>Bachelor’s degree (B.A., B.S., B.Eng., etc.)</td>\n",
       "      <td>5</td>\n",
       "      <td>Employed full-time</td>\n",
       "      <td>46482.0</td>\n",
       "    </tr>\n",
       "    <tr>\n",
       "      <th>12</th>\n",
       "      <td>Germany</td>\n",
       "      <td>Master’s degree (M.A., M.S., M.Eng., MBA, etc.)</td>\n",
       "      <td>6</td>\n",
       "      <td>Employed full-time</td>\n",
       "      <td>77290.0</td>\n",
       "    </tr>\n",
       "    <tr>\n",
       "      <th>16</th>\n",
       "      <td>Turkey</td>\n",
       "      <td>Bachelor’s degree (B.A., B.S., B.Eng., etc.)</td>\n",
       "      <td>2</td>\n",
       "      <td>Employed full-time</td>\n",
       "      <td>17748.0</td>\n",
       "    </tr>\n",
       "    <tr>\n",
       "      <th>17</th>\n",
       "      <td>Canada</td>\n",
       "      <td>Bachelor’s degree (B.A., B.S., B.Eng., etc.)</td>\n",
       "      <td>6</td>\n",
       "      <td>Employed full-time</td>\n",
       "      <td>46135.0</td>\n",
       "    </tr>\n",
       "    <tr>\n",
       "      <th>...</th>\n",
       "      <td>...</td>\n",
       "      <td>...</td>\n",
       "      <td>...</td>\n",
       "      <td>...</td>\n",
       "      <td>...</td>\n",
       "    </tr>\n",
       "    <tr>\n",
       "      <th>83432</th>\n",
       "      <td>Canada</td>\n",
       "      <td>Bachelor’s degree (B.A., B.S., B.Eng., etc.)</td>\n",
       "      <td>Less than 1 year</td>\n",
       "      <td>Employed full-time</td>\n",
       "      <td>80169.0</td>\n",
       "    </tr>\n",
       "    <tr>\n",
       "      <th>83434</th>\n",
       "      <td>United States of America</td>\n",
       "      <td>Bachelor’s degree (B.A., B.S., B.Eng., etc.)</td>\n",
       "      <td>5</td>\n",
       "      <td>Employed full-time</td>\n",
       "      <td>160500.0</td>\n",
       "    </tr>\n",
       "    <tr>\n",
       "      <th>83436</th>\n",
       "      <td>United States of America</td>\n",
       "      <td>Secondary school (e.g. American high school, G...</td>\n",
       "      <td>4</td>\n",
       "      <td>Employed full-time</td>\n",
       "      <td>90000.0</td>\n",
       "    </tr>\n",
       "    <tr>\n",
       "      <th>83437</th>\n",
       "      <td>Canada</td>\n",
       "      <td>Bachelor’s degree (B.A., B.S., B.Eng., etc.)</td>\n",
       "      <td>3</td>\n",
       "      <td>Employed full-time</td>\n",
       "      <td>816816.0</td>\n",
       "    </tr>\n",
       "    <tr>\n",
       "      <th>83438</th>\n",
       "      <td>Brazil</td>\n",
       "      <td>Professional degree (JD, MD, etc.)</td>\n",
       "      <td>4</td>\n",
       "      <td>Employed full-time</td>\n",
       "      <td>21168.0</td>\n",
       "    </tr>\n",
       "  </tbody>\n",
       "</table>\n",
       "<p>40211 rows × 5 columns</p>\n",
       "</div>"
      ],
      "text/plain": [
       "                        Country  \\\n",
       "9                        Sweden   \n",
       "11                        Spain   \n",
       "12                      Germany   \n",
       "16                       Turkey   \n",
       "17                       Canada   \n",
       "...                         ...   \n",
       "83432                    Canada   \n",
       "83434  United States of America   \n",
       "83436  United States of America   \n",
       "83437                    Canada   \n",
       "83438                    Brazil   \n",
       "\n",
       "                                                 EdLevel      YearsCodePro  \\\n",
       "9        Master’s degree (M.A., M.S., M.Eng., MBA, etc.)                 4   \n",
       "11          Bachelor’s degree (B.A., B.S., B.Eng., etc.)                 5   \n",
       "12       Master’s degree (M.A., M.S., M.Eng., MBA, etc.)                 6   \n",
       "16          Bachelor’s degree (B.A., B.S., B.Eng., etc.)                 2   \n",
       "17          Bachelor’s degree (B.A., B.S., B.Eng., etc.)                 6   \n",
       "...                                                  ...               ...   \n",
       "83432       Bachelor’s degree (B.A., B.S., B.Eng., etc.)  Less than 1 year   \n",
       "83434       Bachelor’s degree (B.A., B.S., B.Eng., etc.)                 5   \n",
       "83436  Secondary school (e.g. American high school, G...                 4   \n",
       "83437       Bachelor’s degree (B.A., B.S., B.Eng., etc.)                 3   \n",
       "83438                 Professional degree (JD, MD, etc.)                 4   \n",
       "\n",
       "               Employment    Salary  \n",
       "9      Employed full-time   51552.0  \n",
       "11     Employed full-time   46482.0  \n",
       "12     Employed full-time   77290.0  \n",
       "16     Employed full-time   17748.0  \n",
       "17     Employed full-time   46135.0  \n",
       "...                   ...       ...  \n",
       "83432  Employed full-time   80169.0  \n",
       "83434  Employed full-time  160500.0  \n",
       "83436  Employed full-time   90000.0  \n",
       "83437  Employed full-time  816816.0  \n",
       "83438  Employed full-time   21168.0  \n",
       "\n",
       "[40211 rows x 5 columns]"
      ]
     },
     "execution_count": 263,
     "metadata": {},
     "output_type": "execute_result"
    }
   ],
   "source": [
    "df"
   ]
  },
  {
   "cell_type": "code",
   "execution_count": 264,
   "id": "261d04c4",
   "metadata": {},
   "outputs": [
    {
     "data": {
      "text/html": [
       "<div>\n",
       "<style scoped>\n",
       "    .dataframe tbody tr th:only-of-type {\n",
       "        vertical-align: middle;\n",
       "    }\n",
       "\n",
       "    .dataframe tbody tr th {\n",
       "        vertical-align: top;\n",
       "    }\n",
       "\n",
       "    .dataframe thead th {\n",
       "        text-align: right;\n",
       "    }\n",
       "</style>\n",
       "<table border=\"1\" class=\"dataframe\">\n",
       "  <thead>\n",
       "    <tr style=\"text-align: right;\">\n",
       "      <th></th>\n",
       "      <th>Country</th>\n",
       "      <th>EdLevel</th>\n",
       "      <th>YearsCodePro</th>\n",
       "      <th>Salary</th>\n",
       "    </tr>\n",
       "  </thead>\n",
       "  <tbody>\n",
       "    <tr>\n",
       "      <th>9</th>\n",
       "      <td>Sweden</td>\n",
       "      <td>Master’s degree (M.A., M.S., M.Eng., MBA, etc.)</td>\n",
       "      <td>4</td>\n",
       "      <td>51552.0</td>\n",
       "    </tr>\n",
       "    <tr>\n",
       "      <th>11</th>\n",
       "      <td>Spain</td>\n",
       "      <td>Bachelor’s degree (B.A., B.S., B.Eng., etc.)</td>\n",
       "      <td>5</td>\n",
       "      <td>46482.0</td>\n",
       "    </tr>\n",
       "    <tr>\n",
       "      <th>12</th>\n",
       "      <td>Germany</td>\n",
       "      <td>Master’s degree (M.A., M.S., M.Eng., MBA, etc.)</td>\n",
       "      <td>6</td>\n",
       "      <td>77290.0</td>\n",
       "    </tr>\n",
       "    <tr>\n",
       "      <th>16</th>\n",
       "      <td>Turkey</td>\n",
       "      <td>Bachelor’s degree (B.A., B.S., B.Eng., etc.)</td>\n",
       "      <td>2</td>\n",
       "      <td>17748.0</td>\n",
       "    </tr>\n",
       "    <tr>\n",
       "      <th>17</th>\n",
       "      <td>Canada</td>\n",
       "      <td>Bachelor’s degree (B.A., B.S., B.Eng., etc.)</td>\n",
       "      <td>6</td>\n",
       "      <td>46135.0</td>\n",
       "    </tr>\n",
       "    <tr>\n",
       "      <th>...</th>\n",
       "      <td>...</td>\n",
       "      <td>...</td>\n",
       "      <td>...</td>\n",
       "      <td>...</td>\n",
       "    </tr>\n",
       "    <tr>\n",
       "      <th>83432</th>\n",
       "      <td>Canada</td>\n",
       "      <td>Bachelor’s degree (B.A., B.S., B.Eng., etc.)</td>\n",
       "      <td>Less than 1 year</td>\n",
       "      <td>80169.0</td>\n",
       "    </tr>\n",
       "    <tr>\n",
       "      <th>83434</th>\n",
       "      <td>United States of America</td>\n",
       "      <td>Bachelor’s degree (B.A., B.S., B.Eng., etc.)</td>\n",
       "      <td>5</td>\n",
       "      <td>160500.0</td>\n",
       "    </tr>\n",
       "    <tr>\n",
       "      <th>83436</th>\n",
       "      <td>United States of America</td>\n",
       "      <td>Secondary school (e.g. American high school, G...</td>\n",
       "      <td>4</td>\n",
       "      <td>90000.0</td>\n",
       "    </tr>\n",
       "    <tr>\n",
       "      <th>83437</th>\n",
       "      <td>Canada</td>\n",
       "      <td>Bachelor’s degree (B.A., B.S., B.Eng., etc.)</td>\n",
       "      <td>3</td>\n",
       "      <td>816816.0</td>\n",
       "    </tr>\n",
       "    <tr>\n",
       "      <th>83438</th>\n",
       "      <td>Brazil</td>\n",
       "      <td>Professional degree (JD, MD, etc.)</td>\n",
       "      <td>4</td>\n",
       "      <td>21168.0</td>\n",
       "    </tr>\n",
       "  </tbody>\n",
       "</table>\n",
       "<p>40211 rows × 4 columns</p>\n",
       "</div>"
      ],
      "text/plain": [
       "                        Country  \\\n",
       "9                        Sweden   \n",
       "11                        Spain   \n",
       "12                      Germany   \n",
       "16                       Turkey   \n",
       "17                       Canada   \n",
       "...                         ...   \n",
       "83432                    Canada   \n",
       "83434  United States of America   \n",
       "83436  United States of America   \n",
       "83437                    Canada   \n",
       "83438                    Brazil   \n",
       "\n",
       "                                                 EdLevel      YearsCodePro  \\\n",
       "9        Master’s degree (M.A., M.S., M.Eng., MBA, etc.)                 4   \n",
       "11          Bachelor’s degree (B.A., B.S., B.Eng., etc.)                 5   \n",
       "12       Master’s degree (M.A., M.S., M.Eng., MBA, etc.)                 6   \n",
       "16          Bachelor’s degree (B.A., B.S., B.Eng., etc.)                 2   \n",
       "17          Bachelor’s degree (B.A., B.S., B.Eng., etc.)                 6   \n",
       "...                                                  ...               ...   \n",
       "83432       Bachelor’s degree (B.A., B.S., B.Eng., etc.)  Less than 1 year   \n",
       "83434       Bachelor’s degree (B.A., B.S., B.Eng., etc.)                 5   \n",
       "83436  Secondary school (e.g. American high school, G...                 4   \n",
       "83437       Bachelor’s degree (B.A., B.S., B.Eng., etc.)                 3   \n",
       "83438                 Professional degree (JD, MD, etc.)                 4   \n",
       "\n",
       "         Salary  \n",
       "9       51552.0  \n",
       "11      46482.0  \n",
       "12      77290.0  \n",
       "16      17748.0  \n",
       "17      46135.0  \n",
       "...         ...  \n",
       "83432   80169.0  \n",
       "83434  160500.0  \n",
       "83436   90000.0  \n",
       "83437  816816.0  \n",
       "83438   21168.0  \n",
       "\n",
       "[40211 rows x 4 columns]"
      ]
     },
     "execution_count": 264,
     "metadata": {},
     "output_type": "execute_result"
    }
   ],
   "source": [
    "df = df.drop('Employment', axis = 1)\n",
    "df"
   ]
  },
  {
   "cell_type": "code",
   "execution_count": 128,
   "id": "dd3ffcea",
   "metadata": {},
   "outputs": [
    {
     "name": "stdout",
     "output_type": "stream",
     "text": [
      "<class 'pandas.core.frame.DataFrame'>\n",
      "Int64Index: 40211 entries, 9 to 83438\n",
      "Data columns (total 4 columns):\n",
      " #   Column        Non-Null Count  Dtype  \n",
      "---  ------        --------------  -----  \n",
      " 0   Country       40211 non-null  object \n",
      " 1   EdLevel       40211 non-null  object \n",
      " 2   YearsCodePro  40211 non-null  object \n",
      " 3   Salary        40211 non-null  float64\n",
      "dtypes: float64(1), object(3)\n",
      "memory usage: 1.5+ MB\n"
     ]
    }
   ],
   "source": [
    "df.info()"
   ]
  },
  {
   "cell_type": "code",
   "execution_count": 129,
   "id": "10f47381",
   "metadata": {},
   "outputs": [
    {
     "data": {
      "text/plain": [
       "Country         7\n",
       "EdLevel         7\n",
       "YearsCodePro    7\n",
       "Salary          7\n",
       "dtype: int64"
      ]
     },
     "execution_count": 129,
     "metadata": {},
     "output_type": "execute_result"
    }
   ],
   "source": [
    "df[df.Country == 'Kyrgyzstan'].count()"
   ]
  },
  {
   "cell_type": "code",
   "execution_count": 265,
   "id": "8062c765",
   "metadata": {},
   "outputs": [
    {
     "data": {
      "text/plain": [
       "United States of America                                9175\n",
       "India                                                   3385\n",
       "Germany                                                 2753\n",
       "United Kingdom of Great Britain and Northern Ireland    2604\n",
       "Canada                                                  1553\n",
       "                                                        ... \n",
       "Saint Kitts and Nevis                                      1\n",
       "Monaco                                                     1\n",
       "Libyan Arab Jamahiriya                                     1\n",
       "Somalia                                                    1\n",
       "Burundi                                                    1\n",
       "Name: Country, Length: 166, dtype: int64"
      ]
     },
     "execution_count": 265,
     "metadata": {},
     "output_type": "execute_result"
    }
   ],
   "source": [
    "df.Country.value_counts()\n",
    "#   value_counts().index                  value_counts().values"
   ]
  },
  {
   "cell_type": "code",
   "execution_count": 68,
   "id": "fc9a8323",
   "metadata": {},
   "outputs": [
    {
     "name": "stdout",
     "output_type": "stream",
     "text": [
      "[9175 3385 2753 2604 1553 1396 1340  890  835  825  775  756  741  735\n",
      "  458  438  425  402  382  381  348  347  346  337  324  309  308  308\n",
      "  298  283  280  277  271  261  245  241  222  220  215  214  201  157\n",
      "  153  143  143  139  136  135  128  127  118  118  117  115   89   89\n",
      "   84   83   83   81   80   79   77   75   75   74   62   59   52   51\n",
      "   49   48   41   40   39   39   36   34   34   30   29   28   26   25\n",
      "   25   25   25   25   25   24   24   24   23   22   21   20   19   18\n",
      "   17   16   15   14   14   12   12   11   11   11   10    9    9    9\n",
      "    8    8    8    8    8    8    7    7    6    6    6    6    6    6\n",
      "    6    6    5    5    5    5    4    4    4    4    4    3    3    3\n",
      "    3    3    2    2    2    2    2    2    2    2    1    1    1    1\n",
      "    1    1    1    1    1    1    1    1    1    1    1    1]\n",
      "Index(['United States of America', 'India', 'Germany',\n",
      "       'United Kingdom of Great Britain and Northern Ireland', 'Canada',\n",
      "       'France', 'Brazil', 'Spain', 'Netherlands', 'Australia',\n",
      "       ...\n",
      "       'Lao People's Democratic Republic', 'Saint Vincent and the Grenadines',\n",
      "       'Djibouti', 'Dominica', 'Saint Lucia', 'Saint Kitts and Nevis',\n",
      "       'Monaco', 'Libyan Arab Jamahiriya', 'Somalia', 'Burundi'],\n",
      "      dtype='object', length=166)\n"
     ]
    }
   ],
   "source": [
    "print(df.Country.value_counts().values)\n",
    "print(df.Country.value_counts().index)"
   ]
  },
  {
   "cell_type": "code",
   "execution_count": 266,
   "id": "5ad03cfb",
   "metadata": {},
   "outputs": [],
   "source": [
    "#                 Country frequency가 cutoff(num) 보다 크면 그대로 넣고, rarely나타나면 그 나라들을 other로 취급\n",
    "def shorten_categories(categories, cutoff):\n",
    "    categorical_map= {}\n",
    "    for i in range(len(categories)):\n",
    "        if categories.values[i]>=cutoff:\n",
    "            categorical_map[categories.index[i]] = categories.index[i]\n",
    "        else:\n",
    "            categorical_map[categories.index[i]] = 'other'\n",
    "    return categorical_map"
   ]
  },
  {
   "cell_type": "code",
   "execution_count": 267,
   "id": "0b8242ad",
   "metadata": {},
   "outputs": [
    {
     "data": {
      "text/plain": [
       "{'United States of America': 'United States of America',\n",
       " 'India': 'India',\n",
       " 'Germany': 'Germany',\n",
       " 'United Kingdom of Great Britain and Northern Ireland': 'United Kingdom of Great Britain and Northern Ireland',\n",
       " 'Canada': 'Canada',\n",
       " 'France': 'France',\n",
       " 'Brazil': 'Brazil',\n",
       " 'Spain': 'Spain',\n",
       " 'Netherlands': 'Netherlands',\n",
       " 'Australia': 'Australia',\n",
       " 'Poland': 'Poland',\n",
       " 'Italy': 'Italy',\n",
       " 'Russian Federation': 'Russian Federation',\n",
       " 'Sweden': 'Sweden',\n",
       " 'Turkey': 'Turkey',\n",
       " 'Switzerland': 'Switzerland',\n",
       " 'Israel': 'Israel',\n",
       " 'Norway': 'Norway',\n",
       " 'Mexico': 'Mexico',\n",
       " 'Ukraine': 'Ukraine',\n",
       " 'Iran, Islamic Republic of...': 'Iran, Islamic Republic of...',\n",
       " 'Denmark': 'Denmark',\n",
       " 'Belgium': 'Belgium',\n",
       " 'Finland': 'Finland',\n",
       " 'Austria': 'Austria',\n",
       " 'Argentina': 'Argentina',\n",
       " 'South Africa': 'South Africa',\n",
       " 'Pakistan': 'Pakistan',\n",
       " 'Czech Republic': 'Czech Republic',\n",
       " 'Portugal': 'Portugal',\n",
       " 'China': 'China',\n",
       " 'New Zealand': 'New Zealand',\n",
       " 'Romania': 'Romania',\n",
       " 'Greece': 'Greece',\n",
       " 'Japan': 'Japan',\n",
       " 'Colombia': 'Colombia',\n",
       " 'Bangladesh': 'Bangladesh',\n",
       " 'Bulgaria': 'Bulgaria',\n",
       " 'Ireland': 'Ireland',\n",
       " 'Hungary': 'Hungary',\n",
       " 'Indonesia': 'Indonesia',\n",
       " 'Egypt': 'Egypt',\n",
       " 'Taiwan': 'Taiwan',\n",
       " 'Philippines': 'Philippines',\n",
       " 'Sri Lanka': 'Sri Lanka',\n",
       " 'Serbia': 'Serbia',\n",
       " 'Malaysia': 'Malaysia',\n",
       " 'Singapore': 'Singapore',\n",
       " 'Nigeria': 'Nigeria',\n",
       " 'Viet Nam': 'Viet Nam',\n",
       " 'Chile': 'Chile',\n",
       " 'Croatia': 'Croatia',\n",
       " 'Slovenia': 'Slovenia',\n",
       " 'Lithuania': 'Lithuania',\n",
       " 'Hong Kong (S.A.R.)': 'Hong Kong (S.A.R.)',\n",
       " 'Slovakia': 'Slovakia',\n",
       " 'Nepal': 'Nepal',\n",
       " 'Uruguay': 'Uruguay',\n",
       " 'Belarus': 'Belarus',\n",
       " 'Estonia': 'Estonia',\n",
       " 'Thailand': 'Thailand',\n",
       " 'Kenya': 'Kenya',\n",
       " 'United Arab Emirates': 'United Arab Emirates',\n",
       " 'Peru': 'Peru',\n",
       " 'Georgia': 'Georgia',\n",
       " 'South Korea': 'South Korea',\n",
       " 'Dominican Republic': 'Dominican Republic',\n",
       " 'Ecuador': 'Ecuador',\n",
       " 'Latvia': 'Latvia',\n",
       " 'Bosnia and Herzegovina': 'Bosnia and Herzegovina',\n",
       " 'Tunisia': 'Tunisia',\n",
       " 'Morocco': 'Morocco',\n",
       " 'Costa Rica': 'Costa Rica',\n",
       " 'Armenia': 'Armenia',\n",
       " 'Saudi Arabia': 'Saudi Arabia',\n",
       " 'Venezuela, Bolivarian Republic of...': 'Venezuela, Bolivarian Republic of...',\n",
       " 'Guatemala': 'Guatemala',\n",
       " 'Kazakhstan': 'Kazakhstan',\n",
       " 'Lebanon': 'Lebanon',\n",
       " 'Albania': 'Albania',\n",
       " 'Paraguay': 'Paraguay',\n",
       " 'The former Yugoslav Republic of Macedonia': 'The former Yugoslav Republic of Macedonia',\n",
       " 'Cyprus': 'Cyprus',\n",
       " 'Uzbekistan': 'Uzbekistan',\n",
       " 'Republic of Moldova': 'Republic of Moldova',\n",
       " 'Bolivia': 'Bolivia',\n",
       " 'Iceland': 'Iceland',\n",
       " 'Jordan': 'Jordan',\n",
       " 'Luxembourg': 'Luxembourg',\n",
       " 'Ghana': 'Ghana',\n",
       " 'Republic of Korea': 'Republic of Korea',\n",
       " 'Malta': 'Malta',\n",
       " 'Uganda': 'Uganda',\n",
       " 'Azerbaijan': 'Azerbaijan',\n",
       " 'Ethiopia': 'Ethiopia',\n",
       " 'Cuba': 'Cuba',\n",
       " 'Kosovo': 'Kosovo',\n",
       " 'United Republic of Tanzania': 'United Republic of Tanzania',\n",
       " 'El Salvador': 'El Salvador',\n",
       " 'Panama': 'Panama',\n",
       " 'Myanmar': 'Myanmar',\n",
       " 'Iraq': 'Iraq',\n",
       " 'Syrian Arab Republic': 'Syrian Arab Republic',\n",
       " 'Rwanda': 'Rwanda',\n",
       " 'Nomadic': 'Nomadic',\n",
       " 'Mauritius': 'Mauritius',\n",
       " 'Honduras': 'Honduras',\n",
       " 'Kuwait': 'Kuwait',\n",
       " 'Montenegro': 'Montenegro',\n",
       " 'Palestine': 'other',\n",
       " 'Mongolia': 'other',\n",
       " 'Nicaragua': 'other',\n",
       " 'Afghanistan': 'other',\n",
       " 'Algeria': 'other',\n",
       " 'Zimbabwe': 'other',\n",
       " 'Zambia': 'other',\n",
       " 'Namibia': 'other',\n",
       " 'Cambodia': 'other',\n",
       " 'Angola': 'other',\n",
       " 'Kyrgyzstan': 'other',\n",
       " 'Trinidad and Tobago': 'other',\n",
       " 'Maldives': 'other',\n",
       " \"Côte d'Ivoire\": 'other',\n",
       " 'Madagascar': 'other',\n",
       " 'Qatar': 'other',\n",
       " 'Bahrain': 'other',\n",
       " 'Sudan': 'other',\n",
       " 'Jamaica': 'other',\n",
       " 'Democratic Republic of the Congo': 'other',\n",
       " 'Barbados': 'other',\n",
       " 'Mozambique': 'other',\n",
       " 'Cameroon': 'other',\n",
       " 'Congo, Republic of the...': 'other',\n",
       " 'Senegal': 'other',\n",
       " 'Turkmenistan': 'other',\n",
       " 'Swaziland': 'other',\n",
       " 'Oman': 'other',\n",
       " 'Isle of Man': 'other',\n",
       " 'Belize': 'other',\n",
       " 'Malawi': 'other',\n",
       " 'Yemen': 'other',\n",
       " 'Tajikistan': 'other',\n",
       " 'Niger': 'other',\n",
       " 'Andorra': 'other',\n",
       " 'Suriname': 'other',\n",
       " 'Haiti': 'other',\n",
       " 'Benin': 'other',\n",
       " 'Bhutan': 'other',\n",
       " 'Botswana': 'other',\n",
       " 'Guyana': 'other',\n",
       " 'Guinea': 'other',\n",
       " 'San Marino': 'other',\n",
       " 'Mauritania': 'other',\n",
       " 'Gambia': 'other',\n",
       " 'Cape Verde': 'other',\n",
       " 'Lesotho': 'other',\n",
       " \"Lao People's Democratic Republic\": 'other',\n",
       " 'Saint Vincent and the Grenadines': 'other',\n",
       " 'Djibouti': 'other',\n",
       " 'Dominica': 'other',\n",
       " 'Saint Lucia': 'other',\n",
       " 'Saint Kitts and Nevis': 'other',\n",
       " 'Monaco': 'other',\n",
       " 'Libyan Arab Jamahiriya': 'other',\n",
       " 'Somalia': 'other',\n",
       " 'Burundi': 'other'}"
      ]
     },
     "execution_count": 267,
     "metadata": {},
     "output_type": "execute_result"
    }
   ],
   "source": [
    "shorten_categories(df.Country.value_counts(), 10)"
   ]
  },
  {
   "cell_type": "code",
   "execution_count": 133,
   "id": "49182801",
   "metadata": {},
   "outputs": [],
   "source": [
    "# SAME\n",
    "# ds = df.copy()\n",
    "# ds.Country.value_counts()\n",
    "# country_index = np.array(ds.Country.value_counts().index)\n",
    "# print(country_index)\n",
    "# print(ds.Country.value_counts().values)\n",
    "\n",
    "# vals = {}\n",
    "# for i, v in enumerate(ds.Country.value_counts().values):\n",
    "#     if v>=110:\n",
    "#         vals[country_index[i]] = country_index[i]\n",
    "#         # {'United States of America':'United States of America'}\n",
    "#     else:\n",
    "#         vals[country_index[i]] = 'other'\n",
    "# print(vals)"
   ]
  },
  {
   "cell_type": "code",
   "execution_count": 134,
   "id": "e1a0dea7",
   "metadata": {
    "scrolled": true
   },
   "outputs": [
    {
     "data": {
      "text/plain": [
       "{'key': 'Hey'}"
      ]
     },
     "execution_count": 134,
     "metadata": {},
     "output_type": "execute_result"
    }
   ],
   "source": [
    "a = {}\n",
    "a['key'] = 'Hey'\n",
    "a"
   ]
  },
  {
   "cell_type": "code",
   "execution_count": 268,
   "id": "b8f317ec",
   "metadata": {},
   "outputs": [],
   "source": [
    "country_map = shorten_categories(df.Country.value_counts(), 400)\n",
    "df['Country'] = df['Country'].map(country_map)"
   ]
  },
  {
   "cell_type": "code",
   "execution_count": 269,
   "id": "e0bc83e9",
   "metadata": {
    "scrolled": true
   },
   "outputs": [
    {
     "data": {
      "text/plain": [
       "other                                                   10725\n",
       "United States of America                                 9175\n",
       "India                                                    3385\n",
       "Germany                                                  2753\n",
       "United Kingdom of Great Britain and Northern Ireland     2604\n",
       "Canada                                                   1553\n",
       "France                                                   1396\n",
       "Brazil                                                   1340\n",
       "Spain                                                     890\n",
       "Netherlands                                               835\n",
       "Australia                                                 825\n",
       "Poland                                                    775\n",
       "Italy                                                     756\n",
       "Russian Federation                                        741\n",
       "Sweden                                                    735\n",
       "Turkey                                                    458\n",
       "Switzerland                                               438\n",
       "Israel                                                    425\n",
       "Norway                                                    402\n",
       "Name: Country, dtype: int64"
      ]
     },
     "execution_count": 269,
     "metadata": {},
     "output_type": "execute_result"
    }
   ],
   "source": [
    "df.Country.value_counts()"
   ]
  },
  {
   "cell_type": "code",
   "execution_count": 146,
   "id": "91168543",
   "metadata": {},
   "outputs": [
    {
     "name": "stdout",
     "output_type": "stream",
     "text": [
      "Figure(864x504)\n"
     ]
    },
    {
     "data": {
      "text/plain": [
       "(array([ 1,  2,  3,  4,  5,  6,  7,  8,  9, 10, 11, 12, 13, 14, 15, 16, 17,\n",
       "        18, 19]),\n",
       " [Text(1, 0, 'Australia'),\n",
       "  Text(2, 0, 'Brazil'),\n",
       "  Text(3, 0, 'Canada'),\n",
       "  Text(4, 0, 'France'),\n",
       "  Text(5, 0, 'Germany'),\n",
       "  Text(6, 0, 'India'),\n",
       "  Text(7, 0, 'Israel'),\n",
       "  Text(8, 0, 'Italy'),\n",
       "  Text(9, 0, 'Netherlands'),\n",
       "  Text(10, 0, 'Norway'),\n",
       "  Text(11, 0, 'Poland'),\n",
       "  Text(12, 0, 'Russian Federation'),\n",
       "  Text(13, 0, 'Spain'),\n",
       "  Text(14, 0, 'Sweden'),\n",
       "  Text(15, 0, 'Switzerland'),\n",
       "  Text(16, 0, 'Turkey'),\n",
       "  Text(17, 0, 'United Kingdom of Great Britain and Northern Ireland'),\n",
       "  Text(18, 0, 'United States of America'),\n",
       "  Text(19, 0, 'other')])"
      ]
     },
     "execution_count": 146,
     "metadata": {},
     "output_type": "execute_result"
    },
    {
     "data": {
      "image/png": "[encoded data removed]",
      "text/plain": [
       "<Figure size 864x504 with 1 Axes>"
      ]
     },
     "metadata": {
      "needs_background": "light"
     },
     "output_type": "display_data"
    }
   ],
   "source": [
    "fig, ax = plt.subplots(1,1, figsize =(12, 7))\n",
    "print(fig)\n",
    "df.boxplot('Salary', 'Country', ax = ax)\n",
    "plt.suptitle('Salary (US $) v Country')\n",
    "plt.xticks(rotation = 90)"
   ]
  },
  {
   "cell_type": "code",
   "execution_count": 270,
   "id": "f7ea454f",
   "metadata": {},
   "outputs": [
    {
     "data": {
      "text/plain": [
       "(26608, 4)"
      ]
     },
     "execution_count": 270,
     "metadata": {},
     "output_type": "execute_result"
    }
   ],
   "source": [
    "df = df[df['Salary']<=200000]\n",
    "df = df[df['Salary']>=5000]\n",
    "df = df[df['Country']!='other']\n",
    "df.shape"
   ]
  },
  {
   "cell_type": "markdown",
   "id": "8953a82d",
   "metadata": {},
   "source": [
    "> We've got only Country.val_counts > 400, 5000<Salary<20000"
   ]
  },
  {
   "cell_type": "code",
   "execution_count": 154,
   "id": "4c7e64b9",
   "metadata": {},
   "outputs": [
    {
     "name": "stdout",
     "output_type": "stream",
     "text": [
      "<class 'pandas.core.frame.DataFrame'>\n",
      "Int64Index: 26608 entries, 9 to 83438\n",
      "Data columns (total 4 columns):\n",
      " #   Column        Non-Null Count  Dtype  \n",
      "---  ------        --------------  -----  \n",
      " 0   Country       26608 non-null  object \n",
      " 1   EdLevel       26608 non-null  object \n",
      " 2   YearsCodePro  26608 non-null  object \n",
      " 3   Salary        26608 non-null  float64\n",
      "dtypes: float64(1), object(3)\n",
      "memory usage: 1.0+ MB\n"
     ]
    }
   ],
   "source": [
    "df.info()"
   ]
  },
  {
   "cell_type": "code",
   "execution_count": 156,
   "id": "e80f78b3",
   "metadata": {},
   "outputs": [
    {
     "data": {
      "text/plain": [
       "[array(['Sweden', 'Spain', 'Germany', 'Turkey', 'Canada', 'France',\n",
       "        'Switzerland',\n",
       "        'United Kingdom of Great Britain and Northern Ireland',\n",
       "        'Russian Federation', 'Israel', 'United States of America',\n",
       "        'Brazil', 'Italy', 'Netherlands', 'Poland', 'Australia', 'India',\n",
       "        'Norway'], dtype=object),\n",
       " array(['Master’s degree (M.A., M.S., M.Eng., MBA, etc.)',\n",
       "        'Bachelor’s degree (B.A., B.S., B.Eng., etc.)',\n",
       "        'Professional degree (JD, MD, etc.)',\n",
       "        'Some college/university study without earning a degree',\n",
       "        'Other doctoral degree (Ph.D., Ed.D., etc.)', 'Something else',\n",
       "        'Primary/elementary school', 'Associate degree (A.A., A.S., etc.)',\n",
       "        'Secondary school (e.g. American high school, German Realschule or Gymnasium, etc.)'],\n",
       "       dtype=object),\n",
       " array(['4', '5', '6', '2', '18', '21', '16', '10', 'Less than 1 year',\n",
       "        '3', '15', '12', '8', '17', '1', '14', '7', '26', '34', '11', '25',\n",
       "        '24', '22', '13', '9', '39', '20', '27', '23', '30', '19', '35',\n",
       "        '33', '43', '40', '29', '38', '31', '42', '28', '46', '32', '36',\n",
       "        '37', '47', '45', '44', '41', 'More than 50 years', '50', '49',\n",
       "        '48'], dtype=object),\n",
       " array([ 51552.,  46482.,  77290., ...,   9536.,  15500., 160500.])]"
      ]
     },
     "execution_count": 156,
     "metadata": {},
     "output_type": "execute_result"
    }
   ],
   "source": [
    "[df[col].unique() for col in df.columns]"
   ]
  },
  {
   "cell_type": "code",
   "execution_count": 158,
   "id": "530af97e",
   "metadata": {},
   "outputs": [
    {
     "data": {
      "text/plain": [
       "(array([ 1,  2,  3,  4,  5,  6,  7,  8,  9, 10, 11, 12, 13, 14, 15, 16, 17,\n",
       "        18]),\n",
       " [Text(1, 0, 'Australia'),\n",
       "  Text(2, 0, 'Brazil'),\n",
       "  Text(3, 0, 'Canada'),\n",
       "  Text(4, 0, 'France'),\n",
       "  Text(5, 0, 'Germany'),\n",
       "  Text(6, 0, 'India'),\n",
       "  Text(7, 0, 'Israel'),\n",
       "  Text(8, 0, 'Italy'),\n",
       "  Text(9, 0, 'Netherlands'),\n",
       "  Text(10, 0, 'Norway'),\n",
       "  Text(11, 0, 'Poland'),\n",
       "  Text(12, 0, 'Russian Federation'),\n",
       "  Text(13, 0, 'Spain'),\n",
       "  Text(14, 0, 'Sweden'),\n",
       "  Text(15, 0, 'Switzerland'),\n",
       "  Text(16, 0, 'Turkey'),\n",
       "  Text(17, 0, 'United Kingdom of Great Britain and Northern Ireland'),\n",
       "  Text(18, 0, 'United States of America')])"
      ]
     },
     "execution_count": 158,
     "metadata": {},
     "output_type": "execute_result"
    },
    {
     "data": {
      "image/png": "[encoded data removed]",
      "text/plain": [
       "<Figure size 720x504 with 1 Axes>"
      ]
     },
     "metadata": {
      "needs_background": "light"
     },
     "output_type": "display_data"
    }
   ],
   "source": [
    "fig, ax = plt.subplots(1,1, figsize = (10,7))\n",
    "df.boxplot('Salary','Country', ax = ax)\n",
    "plt.xticks(rotation = 90)"
   ]
  },
  {
   "cell_type": "code",
   "execution_count": 271,
   "id": "4f5bdfa7",
   "metadata": {},
   "outputs": [
    {
     "data": {
      "text/plain": [
       "array(['4', '5', '6', '2', '18', '21', '16', '10', 'Less than 1 year',\n",
       "       '3', '15', '12', '8', '17', '1', '14', '7', '26', '34', '11', '25',\n",
       "       '24', '22', '13', '9', '39', '20', '27', '23', '30', '19', '35',\n",
       "       '33', '43', '40', '29', '38', '31', '42', '28', '46', '32', '36',\n",
       "       '37', '47', '45', '44', '41', 'More than 50 years', '50', '49',\n",
       "       '48'], dtype=object)"
      ]
     },
     "execution_count": 271,
     "metadata": {},
     "output_type": "execute_result"
    }
   ],
   "source": [
    "df['YearsCodePro'].unique()"
   ]
  },
  {
   "cell_type": "code",
   "execution_count": 272,
   "id": "19038817",
   "metadata": {},
   "outputs": [
    {
     "data": {
      "text/plain": [
       "9         4.0\n",
       "11        5.0\n",
       "12        6.0\n",
       "16        2.0\n",
       "17        6.0\n",
       "         ... \n",
       "83430    21.0\n",
       "83432     0.5\n",
       "83434     5.0\n",
       "83436     4.0\n",
       "83438     4.0\n",
       "Name: YearsCodePro, Length: 26608, dtype: float64"
      ]
     },
     "execution_count": 272,
     "metadata": {},
     "output_type": "execute_result"
    }
   ],
   "source": [
    "df['YearsCodePro'] = df['YearsCodePro'].apply(lambda x: 50 if x == 'More than 50 years' else x)\n",
    "df['YearsCodePro'] = df['YearsCodePro'].apply(lambda x: 0.5 if x == 'Less than 1 year' else x)\n",
    "df['YearsCodePro'] = pd.to_numeric(df['YearsCodePro'])\n",
    "df['YearsCodePro']"
   ]
  },
  {
   "cell_type": "code",
   "execution_count": 273,
   "id": "59bb2544",
   "metadata": {},
   "outputs": [
    {
     "data": {
      "text/html": [
       "<div>\n",
       "<style scoped>\n",
       "    .dataframe tbody tr th:only-of-type {\n",
       "        vertical-align: middle;\n",
       "    }\n",
       "\n",
       "    .dataframe tbody tr th {\n",
       "        vertical-align: top;\n",
       "    }\n",
       "\n",
       "    .dataframe thead th {\n",
       "        text-align: right;\n",
       "    }\n",
       "</style>\n",
       "<table border=\"1\" class=\"dataframe\">\n",
       "  <thead>\n",
       "    <tr style=\"text-align: right;\">\n",
       "      <th></th>\n",
       "      <th>Country</th>\n",
       "      <th>EdLevel</th>\n",
       "      <th>YearsCodePro</th>\n",
       "      <th>Salary</th>\n",
       "    </tr>\n",
       "  </thead>\n",
       "  <tbody>\n",
       "    <tr>\n",
       "      <th>9</th>\n",
       "      <td>Sweden</td>\n",
       "      <td>Master’s degree (M.A., M.S., M.Eng., MBA, etc.)</td>\n",
       "      <td>4.0</td>\n",
       "      <td>51552.0</td>\n",
       "    </tr>\n",
       "    <tr>\n",
       "      <th>11</th>\n",
       "      <td>Spain</td>\n",
       "      <td>Bachelor’s degree (B.A., B.S., B.Eng., etc.)</td>\n",
       "      <td>5.0</td>\n",
       "      <td>46482.0</td>\n",
       "    </tr>\n",
       "    <tr>\n",
       "      <th>12</th>\n",
       "      <td>Germany</td>\n",
       "      <td>Master’s degree (M.A., M.S., M.Eng., MBA, etc.)</td>\n",
       "      <td>6.0</td>\n",
       "      <td>77290.0</td>\n",
       "    </tr>\n",
       "    <tr>\n",
       "      <th>16</th>\n",
       "      <td>Turkey</td>\n",
       "      <td>Bachelor’s degree (B.A., B.S., B.Eng., etc.)</td>\n",
       "      <td>2.0</td>\n",
       "      <td>17748.0</td>\n",
       "    </tr>\n",
       "    <tr>\n",
       "      <th>17</th>\n",
       "      <td>Canada</td>\n",
       "      <td>Bachelor’s degree (B.A., B.S., B.Eng., etc.)</td>\n",
       "      <td>6.0</td>\n",
       "      <td>46135.0</td>\n",
       "    </tr>\n",
       "    <tr>\n",
       "      <th>...</th>\n",
       "      <td>...</td>\n",
       "      <td>...</td>\n",
       "      <td>...</td>\n",
       "      <td>...</td>\n",
       "    </tr>\n",
       "    <tr>\n",
       "      <th>83430</th>\n",
       "      <td>United States of America</td>\n",
       "      <td>Master’s degree (M.A., M.S., M.Eng., MBA, etc.)</td>\n",
       "      <td>21.0</td>\n",
       "      <td>125000.0</td>\n",
       "    </tr>\n",
       "    <tr>\n",
       "      <th>83432</th>\n",
       "      <td>Canada</td>\n",
       "      <td>Bachelor’s degree (B.A., B.S., B.Eng., etc.)</td>\n",
       "      <td>0.5</td>\n",
       "      <td>80169.0</td>\n",
       "    </tr>\n",
       "    <tr>\n",
       "      <th>83434</th>\n",
       "      <td>United States of America</td>\n",
       "      <td>Bachelor’s degree (B.A., B.S., B.Eng., etc.)</td>\n",
       "      <td>5.0</td>\n",
       "      <td>160500.0</td>\n",
       "    </tr>\n",
       "    <tr>\n",
       "      <th>83436</th>\n",
       "      <td>United States of America</td>\n",
       "      <td>Secondary school (e.g. American high school, G...</td>\n",
       "      <td>4.0</td>\n",
       "      <td>90000.0</td>\n",
       "    </tr>\n",
       "    <tr>\n",
       "      <th>83438</th>\n",
       "      <td>Brazil</td>\n",
       "      <td>Professional degree (JD, MD, etc.)</td>\n",
       "      <td>4.0</td>\n",
       "      <td>21168.0</td>\n",
       "    </tr>\n",
       "  </tbody>\n",
       "</table>\n",
       "<p>26608 rows × 4 columns</p>\n",
       "</div>"
      ],
      "text/plain": [
       "                        Country  \\\n",
       "9                        Sweden   \n",
       "11                        Spain   \n",
       "12                      Germany   \n",
       "16                       Turkey   \n",
       "17                       Canada   \n",
       "...                         ...   \n",
       "83430  United States of America   \n",
       "83432                    Canada   \n",
       "83434  United States of America   \n",
       "83436  United States of America   \n",
       "83438                    Brazil   \n",
       "\n",
       "                                                 EdLevel  YearsCodePro  \\\n",
       "9        Master’s degree (M.A., M.S., M.Eng., MBA, etc.)           4.0   \n",
       "11          Bachelor’s degree (B.A., B.S., B.Eng., etc.)           5.0   \n",
       "12       Master’s degree (M.A., M.S., M.Eng., MBA, etc.)           6.0   \n",
       "16          Bachelor’s degree (B.A., B.S., B.Eng., etc.)           2.0   \n",
       "17          Bachelor’s degree (B.A., B.S., B.Eng., etc.)           6.0   \n",
       "...                                                  ...           ...   \n",
       "83430    Master’s degree (M.A., M.S., M.Eng., MBA, etc.)          21.0   \n",
       "83432       Bachelor’s degree (B.A., B.S., B.Eng., etc.)           0.5   \n",
       "83434       Bachelor’s degree (B.A., B.S., B.Eng., etc.)           5.0   \n",
       "83436  Secondary school (e.g. American high school, G...           4.0   \n",
       "83438                 Professional degree (JD, MD, etc.)           4.0   \n",
       "\n",
       "         Salary  \n",
       "9       51552.0  \n",
       "11      46482.0  \n",
       "12      77290.0  \n",
       "16      17748.0  \n",
       "17      46135.0  \n",
       "...         ...  \n",
       "83430  125000.0  \n",
       "83432   80169.0  \n",
       "83434  160500.0  \n",
       "83436   90000.0  \n",
       "83438   21168.0  \n",
       "\n",
       "[26608 rows x 4 columns]"
      ]
     },
     "execution_count": 273,
     "metadata": {},
     "output_type": "execute_result"
    }
   ],
   "source": [
    "df"
   ]
  },
  {
   "cell_type": "code",
   "execution_count": 274,
   "id": "ed6d8023",
   "metadata": {},
   "outputs": [
    {
     "data": {
      "text/plain": [
       "array(['Master’s degree (M.A., M.S., M.Eng., MBA, etc.)',\n",
       "       'Bachelor’s degree (B.A., B.S., B.Eng., etc.)',\n",
       "       'Professional degree (JD, MD, etc.)',\n",
       "       'Some college/university study without earning a degree',\n",
       "       'Other doctoral degree (Ph.D., Ed.D., etc.)', 'Something else',\n",
       "       'Primary/elementary school', 'Associate degree (A.A., A.S., etc.)',\n",
       "       'Secondary school (e.g. American high school, German Realschule or Gymnasium, etc.)'],\n",
       "      dtype=object)"
      ]
     },
     "execution_count": 274,
     "metadata": {},
     "output_type": "execute_result"
    }
   ],
   "source": [
    "df['EdLevel'].unique()"
   ]
  },
  {
   "cell_type": "code",
   "execution_count": 275,
   "id": "abf5a754",
   "metadata": {},
   "outputs": [],
   "source": [
    "def clean_education(x):\n",
    "    if 'Bachelor’s degree' in x:\n",
    "        return 'Bachelor’s degree'\n",
    "    \n",
    "    if 'Master’s degree' in x:\n",
    "        return 'Master’s degree'\n",
    "    \n",
    "    if 'Professional degree' in x or 'Other doctoral degree' in x:\n",
    "        return 'Post grad'\n",
    "    \n",
    "    return 'Less than Bachelors'"
   ]
  },
  {
   "cell_type": "code",
   "execution_count": 276,
   "id": "18b6719f",
   "metadata": {},
   "outputs": [
    {
     "data": {
      "text/html": [
       "<div>\n",
       "<style scoped>\n",
       "    .dataframe tbody tr th:only-of-type {\n",
       "        vertical-align: middle;\n",
       "    }\n",
       "\n",
       "    .dataframe tbody tr th {\n",
       "        vertical-align: top;\n",
       "    }\n",
       "\n",
       "    .dataframe thead th {\n",
       "        text-align: right;\n",
       "    }\n",
       "</style>\n",
       "<table border=\"1\" class=\"dataframe\">\n",
       "  <thead>\n",
       "    <tr style=\"text-align: right;\">\n",
       "      <th></th>\n",
       "      <th>Country</th>\n",
       "      <th>EdLevel</th>\n",
       "      <th>YearsCodePro</th>\n",
       "      <th>Salary</th>\n",
       "    </tr>\n",
       "  </thead>\n",
       "  <tbody>\n",
       "    <tr>\n",
       "      <th>9</th>\n",
       "      <td>Sweden</td>\n",
       "      <td>Master’s degree</td>\n",
       "      <td>4.0</td>\n",
       "      <td>51552.0</td>\n",
       "    </tr>\n",
       "    <tr>\n",
       "      <th>11</th>\n",
       "      <td>Spain</td>\n",
       "      <td>Bachelor’s degree</td>\n",
       "      <td>5.0</td>\n",
       "      <td>46482.0</td>\n",
       "    </tr>\n",
       "    <tr>\n",
       "      <th>12</th>\n",
       "      <td>Germany</td>\n",
       "      <td>Master’s degree</td>\n",
       "      <td>6.0</td>\n",
       "      <td>77290.0</td>\n",
       "    </tr>\n",
       "    <tr>\n",
       "      <th>16</th>\n",
       "      <td>Turkey</td>\n",
       "      <td>Bachelor’s degree</td>\n",
       "      <td>2.0</td>\n",
       "      <td>17748.0</td>\n",
       "    </tr>\n",
       "    <tr>\n",
       "      <th>17</th>\n",
       "      <td>Canada</td>\n",
       "      <td>Bachelor’s degree</td>\n",
       "      <td>6.0</td>\n",
       "      <td>46135.0</td>\n",
       "    </tr>\n",
       "    <tr>\n",
       "      <th>...</th>\n",
       "      <td>...</td>\n",
       "      <td>...</td>\n",
       "      <td>...</td>\n",
       "      <td>...</td>\n",
       "    </tr>\n",
       "    <tr>\n",
       "      <th>83430</th>\n",
       "      <td>United States of America</td>\n",
       "      <td>Master’s degree</td>\n",
       "      <td>21.0</td>\n",
       "      <td>125000.0</td>\n",
       "    </tr>\n",
       "    <tr>\n",
       "      <th>83432</th>\n",
       "      <td>Canada</td>\n",
       "      <td>Bachelor’s degree</td>\n",
       "      <td>0.5</td>\n",
       "      <td>80169.0</td>\n",
       "    </tr>\n",
       "    <tr>\n",
       "      <th>83434</th>\n",
       "      <td>United States of America</td>\n",
       "      <td>Bachelor’s degree</td>\n",
       "      <td>5.0</td>\n",
       "      <td>160500.0</td>\n",
       "    </tr>\n",
       "    <tr>\n",
       "      <th>83436</th>\n",
       "      <td>United States of America</td>\n",
       "      <td>Less than Bachelors</td>\n",
       "      <td>4.0</td>\n",
       "      <td>90000.0</td>\n",
       "    </tr>\n",
       "    <tr>\n",
       "      <th>83438</th>\n",
       "      <td>Brazil</td>\n",
       "      <td>Post grad</td>\n",
       "      <td>4.0</td>\n",
       "      <td>21168.0</td>\n",
       "    </tr>\n",
       "  </tbody>\n",
       "</table>\n",
       "<p>26608 rows × 4 columns</p>\n",
       "</div>"
      ],
      "text/plain": [
       "                        Country              EdLevel  YearsCodePro    Salary\n",
       "9                        Sweden      Master’s degree           4.0   51552.0\n",
       "11                        Spain    Bachelor’s degree           5.0   46482.0\n",
       "12                      Germany      Master’s degree           6.0   77290.0\n",
       "16                       Turkey    Bachelor’s degree           2.0   17748.0\n",
       "17                       Canada    Bachelor’s degree           6.0   46135.0\n",
       "...                         ...                  ...           ...       ...\n",
       "83430  United States of America      Master’s degree          21.0  125000.0\n",
       "83432                    Canada    Bachelor’s degree           0.5   80169.0\n",
       "83434  United States of America    Bachelor’s degree           5.0  160500.0\n",
       "83436  United States of America  Less than Bachelors           4.0   90000.0\n",
       "83438                    Brazil            Post grad           4.0   21168.0\n",
       "\n",
       "[26608 rows x 4 columns]"
      ]
     },
     "execution_count": 276,
     "metadata": {},
     "output_type": "execute_result"
    }
   ],
   "source": [
    "df['EdLevel'] = df['EdLevel'].apply(clean_education)\n",
    "df"
   ]
  },
  {
   "cell_type": "markdown",
   "id": "cddfbafe",
   "metadata": {},
   "source": [
    " ## Transform a string value to the unique value"
   ]
  },
  {
   "cell_type": "markdown",
   "id": "873ac5cb",
   "metadata": {},
   "source": [
    "숫자로 다루기 위해서 여러 방법이 존재하며 오늘은 LabelEncoder를 이용하여         \n",
    "\n",
    "문자를 0부터 시작하는 정수형 숫자로 바꿔주는 기능을 제공합니다.        \n",
    "\n",
    "반대로 (라벨)코드숫자를 이용하여 원본 값을 구할 수도 있습니다  "
   ]
  },
  {
   "cell_type": "code",
   "execution_count": 277,
   "id": "2a33205b",
   "metadata": {},
   "outputs": [],
   "source": [
    "from sklearn.preprocessing import LabelEncoder\n"
   ]
  },
  {
   "cell_type": "code",
   "execution_count": 193,
   "id": "f04880ea",
   "metadata": {},
   "outputs": [
    {
     "name": "stdout",
     "output_type": "stream",
     "text": [
      "[2 3 0 1]\n",
      "encoder classes:  ['Al' 'Biz' 'Men' 'Sen']\n"
     ]
    },
    {
     "data": {
      "text/plain": [
       "array(['Men', 'Sen', 'Al', 'Biz'], dtype='<U3')"
      ]
     },
     "execution_count": 193,
     "metadata": {},
     "output_type": "execute_result"
    }
   ],
   "source": [
    "# labelencoder working example  [우리 데이터가 아닌 그냥 숫자로 해봄]\n",
    "encoder = LabelEncoder()\n",
    "a = np.array(['Men','Sen','Al','Biz'])\n",
    "a_encoded = encoder.fit_transform(a)   # alphabetке карап 0,1,..\n",
    "print(a_encoded)\n",
    "print('encoder classes: ',encoder.classes_)\n",
    "encoder.inverse_transform(a_encoded)"
   ]
  },
  {
   "cell_type": "code",
   "execution_count": 278,
   "id": "0013d3a6",
   "metadata": {
    "scrolled": true
   },
   "outputs": [
    {
     "data": {
      "text/plain": [
       "array(['Master’s degree', 'Bachelor’s degree', 'Post grad',\n",
       "       'Less than Bachelors'], dtype=object)"
      ]
     },
     "execution_count": 278,
     "metadata": {},
     "output_type": "execute_result"
    }
   ],
   "source": [
    "## Back to data\n",
    "df['EdLevel'].unique()"
   ]
  },
  {
   "cell_type": "code",
   "execution_count": null,
   "id": "69e5e848",
   "metadata": {},
   "outputs": [],
   "source": []
  },
  {
   "cell_type": "code",
   "execution_count": 279,
   "id": "c9742c7e",
   "metadata": {},
   "outputs": [
    {
     "name": "stdout",
     "output_type": "stream",
     "text": [
      "변화된 값들:  ['Bachelor’s degree' 'Less than Bachelors' 'Master’s degree' 'Post grad']\n"
     ]
    },
    {
     "data": {
      "text/plain": [
       "9        2\n",
       "11       0\n",
       "12       2\n",
       "16       0\n",
       "17       0\n",
       "        ..\n",
       "83430    2\n",
       "83432    0\n",
       "83434    0\n",
       "83436    1\n",
       "83438    3\n",
       "Name: EdLevel, Length: 26608, dtype: int32"
      ]
     },
     "execution_count": 279,
     "metadata": {},
     "output_type": "execute_result"
    }
   ],
   "source": [
    "encoder_education = LabelEncoder()\n",
    "df['EdLevel'] = encoder_education.fit_transform(df['EdLevel'])\n",
    "print('변화된 값들: ',encoder_education.classes_)\n",
    "df['EdLevel']"
   ]
  },
  {
   "cell_type": "code",
   "execution_count": 286,
   "id": "a55ae694",
   "metadata": {},
   "outputs": [
    {
     "data": {
      "text/plain": [
       "[0, 1, 2, 3]"
      ]
     },
     "execution_count": 286,
     "metadata": {},
     "output_type": "execute_result"
    }
   ],
   "source": [
    "sorted(df.EdLevel.unique())"
   ]
  },
  {
   "cell_type": "code",
   "execution_count": 285,
   "id": "0d28a032",
   "metadata": {
    "scrolled": true
   },
   "outputs": [
    {
     "data": {
      "text/plain": [
       "['Bachelor’s degree', 'Less than Bachelors', 'Master’s degree', 'Post grad']"
      ]
     },
     "execution_count": 285,
     "metadata": {},
     "output_type": "execute_result"
    }
   ],
   "source": [
    "sorted(set(encoder_education.inverse_transform(df['EdLevel'])))\n",
    "\n",
    "\n",
    "# [         0,                   1,                    2,             3]\n",
    "# ['Bachelor’s degree', 'Less than Bachelors', 'Master’s degree', 'Post grad']"
   ]
  },
  {
   "cell_type": "code",
   "execution_count": 287,
   "id": "a1818afe",
   "metadata": {},
   "outputs": [
    {
     "data": {
      "text/html": [
       "<div>\n",
       "<style scoped>\n",
       "    .dataframe tbody tr th:only-of-type {\n",
       "        vertical-align: middle;\n",
       "    }\n",
       "\n",
       "    .dataframe tbody tr th {\n",
       "        vertical-align: top;\n",
       "    }\n",
       "\n",
       "    .dataframe thead th {\n",
       "        text-align: right;\n",
       "    }\n",
       "</style>\n",
       "<table border=\"1\" class=\"dataframe\">\n",
       "  <thead>\n",
       "    <tr style=\"text-align: right;\">\n",
       "      <th></th>\n",
       "      <th>Country</th>\n",
       "      <th>EdLevel</th>\n",
       "      <th>YearsCodePro</th>\n",
       "      <th>Salary</th>\n",
       "    </tr>\n",
       "  </thead>\n",
       "  <tbody>\n",
       "    <tr>\n",
       "      <th>9</th>\n",
       "      <td>Sweden</td>\n",
       "      <td>2</td>\n",
       "      <td>4.0</td>\n",
       "      <td>51552.0</td>\n",
       "    </tr>\n",
       "    <tr>\n",
       "      <th>11</th>\n",
       "      <td>Spain</td>\n",
       "      <td>0</td>\n",
       "      <td>5.0</td>\n",
       "      <td>46482.0</td>\n",
       "    </tr>\n",
       "    <tr>\n",
       "      <th>12</th>\n",
       "      <td>Germany</td>\n",
       "      <td>2</td>\n",
       "      <td>6.0</td>\n",
       "      <td>77290.0</td>\n",
       "    </tr>\n",
       "    <tr>\n",
       "      <th>16</th>\n",
       "      <td>Turkey</td>\n",
       "      <td>0</td>\n",
       "      <td>2.0</td>\n",
       "      <td>17748.0</td>\n",
       "    </tr>\n",
       "    <tr>\n",
       "      <th>17</th>\n",
       "      <td>Canada</td>\n",
       "      <td>0</td>\n",
       "      <td>6.0</td>\n",
       "      <td>46135.0</td>\n",
       "    </tr>\n",
       "    <tr>\n",
       "      <th>...</th>\n",
       "      <td>...</td>\n",
       "      <td>...</td>\n",
       "      <td>...</td>\n",
       "      <td>...</td>\n",
       "    </tr>\n",
       "    <tr>\n",
       "      <th>83430</th>\n",
       "      <td>United States of America</td>\n",
       "      <td>2</td>\n",
       "      <td>21.0</td>\n",
       "      <td>125000.0</td>\n",
       "    </tr>\n",
       "    <tr>\n",
       "      <th>83432</th>\n",
       "      <td>Canada</td>\n",
       "      <td>0</td>\n",
       "      <td>0.5</td>\n",
       "      <td>80169.0</td>\n",
       "    </tr>\n",
       "    <tr>\n",
       "      <th>83434</th>\n",
       "      <td>United States of America</td>\n",
       "      <td>0</td>\n",
       "      <td>5.0</td>\n",
       "      <td>160500.0</td>\n",
       "    </tr>\n",
       "    <tr>\n",
       "      <th>83436</th>\n",
       "      <td>United States of America</td>\n",
       "      <td>1</td>\n",
       "      <td>4.0</td>\n",
       "      <td>90000.0</td>\n",
       "    </tr>\n",
       "    <tr>\n",
       "      <th>83438</th>\n",
       "      <td>Brazil</td>\n",
       "      <td>3</td>\n",
       "      <td>4.0</td>\n",
       "      <td>21168.0</td>\n",
       "    </tr>\n",
       "  </tbody>\n",
       "</table>\n",
       "<p>26608 rows × 4 columns</p>\n",
       "</div>"
      ],
      "text/plain": [
       "                        Country  EdLevel  YearsCodePro    Salary\n",
       "9                        Sweden        2           4.0   51552.0\n",
       "11                        Spain        0           5.0   46482.0\n",
       "12                      Germany        2           6.0   77290.0\n",
       "16                       Turkey        0           2.0   17748.0\n",
       "17                       Canada        0           6.0   46135.0\n",
       "...                         ...      ...           ...       ...\n",
       "83430  United States of America        2          21.0  125000.0\n",
       "83432                    Canada        0           0.5   80169.0\n",
       "83434  United States of America        0           5.0  160500.0\n",
       "83436  United States of America        1           4.0   90000.0\n",
       "83438                    Brazil        3           4.0   21168.0\n",
       "\n",
       "[26608 rows x 4 columns]"
      ]
     },
     "execution_count": 287,
     "metadata": {},
     "output_type": "execute_result"
    }
   ],
   "source": [
    "df"
   ]
  },
  {
   "cell_type": "code",
   "execution_count": 288,
   "id": "e4372cd4",
   "metadata": {},
   "outputs": [
    {
     "name": "stdout",
     "output_type": "stream",
     "text": [
      "['Australia' 'Brazil' 'Canada' 'France' 'Germany' 'India' 'Israel' 'Italy'\n",
      " 'Netherlands' 'Norway' 'Poland' 'Russian Federation' 'Spain' 'Sweden'\n",
      " 'Switzerland' 'Turkey'\n",
      " 'United Kingdom of Great Britain and Northern Ireland'\n",
      " 'United States of America']\n"
     ]
    },
    {
     "data": {
      "text/plain": [
       "array([13, 12,  4, 15,  2,  3, 14, 16, 11,  6, 17,  1,  7,  8, 10,  0,  5,\n",
       "        9])"
      ]
     },
     "execution_count": 288,
     "metadata": {},
     "output_type": "execute_result"
    }
   ],
   "source": [
    "encoder_Country = LabelEncoder()\n",
    "df['Country'] = encoder_Country.fit_transform(df['Country'])\n",
    "print(encoder_Country.classes_)\n",
    "df['Country'].unique()"
   ]
  },
  {
   "cell_type": "code",
   "execution_count": 289,
   "id": "9a7948de",
   "metadata": {},
   "outputs": [
    {
     "data": {
      "text/html": [
       "<div>\n",
       "<style scoped>\n",
       "    .dataframe tbody tr th:only-of-type {\n",
       "        vertical-align: middle;\n",
       "    }\n",
       "\n",
       "    .dataframe tbody tr th {\n",
       "        vertical-align: top;\n",
       "    }\n",
       "\n",
       "    .dataframe thead th {\n",
       "        text-align: right;\n",
       "    }\n",
       "</style>\n",
       "<table border=\"1\" class=\"dataframe\">\n",
       "  <thead>\n",
       "    <tr style=\"text-align: right;\">\n",
       "      <th></th>\n",
       "      <th>Country</th>\n",
       "      <th>EdLevel</th>\n",
       "      <th>YearsCodePro</th>\n",
       "      <th>Salary</th>\n",
       "    </tr>\n",
       "  </thead>\n",
       "  <tbody>\n",
       "    <tr>\n",
       "      <th>9</th>\n",
       "      <td>13</td>\n",
       "      <td>2</td>\n",
       "      <td>4.0</td>\n",
       "      <td>51552.0</td>\n",
       "    </tr>\n",
       "    <tr>\n",
       "      <th>11</th>\n",
       "      <td>12</td>\n",
       "      <td>0</td>\n",
       "      <td>5.0</td>\n",
       "      <td>46482.0</td>\n",
       "    </tr>\n",
       "    <tr>\n",
       "      <th>12</th>\n",
       "      <td>4</td>\n",
       "      <td>2</td>\n",
       "      <td>6.0</td>\n",
       "      <td>77290.0</td>\n",
       "    </tr>\n",
       "    <tr>\n",
       "      <th>16</th>\n",
       "      <td>15</td>\n",
       "      <td>0</td>\n",
       "      <td>2.0</td>\n",
       "      <td>17748.0</td>\n",
       "    </tr>\n",
       "    <tr>\n",
       "      <th>17</th>\n",
       "      <td>2</td>\n",
       "      <td>0</td>\n",
       "      <td>6.0</td>\n",
       "      <td>46135.0</td>\n",
       "    </tr>\n",
       "    <tr>\n",
       "      <th>...</th>\n",
       "      <td>...</td>\n",
       "      <td>...</td>\n",
       "      <td>...</td>\n",
       "      <td>...</td>\n",
       "    </tr>\n",
       "    <tr>\n",
       "      <th>83430</th>\n",
       "      <td>17</td>\n",
       "      <td>2</td>\n",
       "      <td>21.0</td>\n",
       "      <td>125000.0</td>\n",
       "    </tr>\n",
       "    <tr>\n",
       "      <th>83432</th>\n",
       "      <td>2</td>\n",
       "      <td>0</td>\n",
       "      <td>0.5</td>\n",
       "      <td>80169.0</td>\n",
       "    </tr>\n",
       "    <tr>\n",
       "      <th>83434</th>\n",
       "      <td>17</td>\n",
       "      <td>0</td>\n",
       "      <td>5.0</td>\n",
       "      <td>160500.0</td>\n",
       "    </tr>\n",
       "    <tr>\n",
       "      <th>83436</th>\n",
       "      <td>17</td>\n",
       "      <td>1</td>\n",
       "      <td>4.0</td>\n",
       "      <td>90000.0</td>\n",
       "    </tr>\n",
       "    <tr>\n",
       "      <th>83438</th>\n",
       "      <td>1</td>\n",
       "      <td>3</td>\n",
       "      <td>4.0</td>\n",
       "      <td>21168.0</td>\n",
       "    </tr>\n",
       "  </tbody>\n",
       "</table>\n",
       "<p>26608 rows × 4 columns</p>\n",
       "</div>"
      ],
      "text/plain": [
       "       Country  EdLevel  YearsCodePro    Salary\n",
       "9           13        2           4.0   51552.0\n",
       "11          12        0           5.0   46482.0\n",
       "12           4        2           6.0   77290.0\n",
       "16          15        0           2.0   17748.0\n",
       "17           2        0           6.0   46135.0\n",
       "...        ...      ...           ...       ...\n",
       "83430       17        2          21.0  125000.0\n",
       "83432        2        0           0.5   80169.0\n",
       "83434       17        0           5.0  160500.0\n",
       "83436       17        1           4.0   90000.0\n",
       "83438        1        3           4.0   21168.0\n",
       "\n",
       "[26608 rows x 4 columns]"
      ]
     },
     "execution_count": 289,
     "metadata": {},
     "output_type": "execute_result"
    }
   ],
   "source": [
    "df"
   ]
  },
  {
   "cell_type": "code",
   "execution_count": 290,
   "id": "d79d58ef",
   "metadata": {},
   "outputs": [],
   "source": [
    "X = df.drop('Salary', axis = 1)\n",
    "y = df.Salary"
   ]
  },
  {
   "cell_type": "markdown",
   "id": "84e9f4c9",
   "metadata": {},
   "source": [
    "## Training"
   ]
  },
  {
   "cell_type": "code",
   "execution_count": 291,
   "id": "8ae62a0e",
   "metadata": {},
   "outputs": [
    {
     "data": {
      "text/plain": [
       "LinearRegression()"
      ]
     },
     "execution_count": 291,
     "metadata": {},
     "output_type": "execute_result"
    }
   ],
   "source": [
    "from sklearn.linear_model import LinearRegression\n",
    "lr = LinearRegression()\n",
    "lr.fit(X, y)"
   ]
  },
  {
   "cell_type": "code",
   "execution_count": 292,
   "id": "2fe28222",
   "metadata": {},
   "outputs": [],
   "source": [
    "y_pred = lr.predict(X)"
   ]
  },
  {
   "cell_type": "code",
   "execution_count": 293,
   "id": "f2443f1d",
   "metadata": {},
   "outputs": [
    {
     "data": {
      "text/plain": [
       "array([74012.11537574, 72231.12357424, 47216.43249915, ...,\n",
       "       89261.99456647, 87484.43214064, 33290.40502328])"
      ]
     },
     "execution_count": 293,
     "metadata": {},
     "output_type": "execute_result"
    }
   ],
   "source": [
    "y_pred"
   ]
  },
  {
   "cell_type": "code",
   "execution_count": 294,
   "id": "3c66528d",
   "metadata": {},
   "outputs": [
    {
     "data": {
      "text/html": [
       "<div>\n",
       "<style scoped>\n",
       "    .dataframe tbody tr th:only-of-type {\n",
       "        vertical-align: middle;\n",
       "    }\n",
       "\n",
       "    .dataframe tbody tr th {\n",
       "        vertical-align: top;\n",
       "    }\n",
       "\n",
       "    .dataframe thead th {\n",
       "        text-align: right;\n",
       "    }\n",
       "</style>\n",
       "<table border=\"1\" class=\"dataframe\">\n",
       "  <thead>\n",
       "    <tr style=\"text-align: right;\">\n",
       "      <th></th>\n",
       "      <th>y_real</th>\n",
       "      <th>y_pred</th>\n",
       "    </tr>\n",
       "  </thead>\n",
       "  <tbody>\n",
       "    <tr>\n",
       "      <th>0</th>\n",
       "      <td>51552.0</td>\n",
       "      <td>74012.115376</td>\n",
       "    </tr>\n",
       "    <tr>\n",
       "      <th>1</th>\n",
       "      <td>46482.0</td>\n",
       "      <td>72231.123574</td>\n",
       "    </tr>\n",
       "    <tr>\n",
       "      <th>2</th>\n",
       "      <td>77290.0</td>\n",
       "      <td>47216.432499</td>\n",
       "    </tr>\n",
       "    <tr>\n",
       "      <th>3</th>\n",
       "      <td>17748.0</td>\n",
       "      <td>76659.818805</td>\n",
       "    </tr>\n",
       "    <tr>\n",
       "      <th>4</th>\n",
       "      <td>46135.0</td>\n",
       "      <td>40099.324044</td>\n",
       "    </tr>\n",
       "    <tr>\n",
       "      <th>...</th>\n",
       "      <td>...</td>\n",
       "      <td>...</td>\n",
       "    </tr>\n",
       "    <tr>\n",
       "      <th>26603</th>\n",
       "      <td>125000.0</td>\n",
       "      <td>120445.833900</td>\n",
       "    </tr>\n",
       "    <tr>\n",
       "      <th>26604</th>\n",
       "      <td>80169.0</td>\n",
       "      <td>29484.640544</td>\n",
       "    </tr>\n",
       "    <tr>\n",
       "      <th>26605</th>\n",
       "      <td>160500.0</td>\n",
       "      <td>89261.994566</td>\n",
       "    </tr>\n",
       "    <tr>\n",
       "      <th>26606</th>\n",
       "      <td>90000.0</td>\n",
       "      <td>87484.432141</td>\n",
       "    </tr>\n",
       "    <tr>\n",
       "      <th>26607</th>\n",
       "      <td>21168.0</td>\n",
       "      <td>33290.405023</td>\n",
       "    </tr>\n",
       "  </tbody>\n",
       "</table>\n",
       "<p>26608 rows × 2 columns</p>\n",
       "</div>"
      ],
      "text/plain": [
       "         y_real         y_pred\n",
       "0       51552.0   74012.115376\n",
       "1       46482.0   72231.123574\n",
       "2       77290.0   47216.432499\n",
       "3       17748.0   76659.818805\n",
       "4       46135.0   40099.324044\n",
       "...         ...            ...\n",
       "26603  125000.0  120445.833900\n",
       "26604   80169.0   29484.640544\n",
       "26605  160500.0   89261.994566\n",
       "26606   90000.0   87484.432141\n",
       "26607   21168.0   33290.405023\n",
       "\n",
       "[26608 rows x 2 columns]"
      ]
     },
     "execution_count": 294,
     "metadata": {},
     "output_type": "execute_result"
    }
   ],
   "source": [
    "# for me\n",
    "df_ypred = pd.DataFrame(np.array(y_pred), columns=['y_pred'])\n",
    "df_yreal = pd.DataFrame(np.array(y), columns = ['y_real'])\n",
    "df_predicted = pd.concat([df_yreal, df_ypred], axis =1)\n",
    "df_predicted"
   ]
  },
  {
   "cell_type": "markdown",
   "id": "10218b53",
   "metadata": {},
   "source": [
    "## Evaluate Model"
   ]
  },
  {
   "cell_type": "code",
   "execution_count": 295,
   "id": "f4efc1f4",
   "metadata": {},
   "outputs": [],
   "source": [
    "from sklearn.metrics import mean_squared_error, mean_absolute_error"
   ]
  },
  {
   "cell_type": "code",
   "execution_count": 296,
   "id": "db413855",
   "metadata": {},
   "outputs": [
    {
     "data": {
      "text/plain": [
       "37536.872806474246"
      ]
     },
     "execution_count": 296,
     "metadata": {},
     "output_type": "execute_result"
    }
   ],
   "source": [
    "error = mean_squared_error(y, y_pred) # squared --> to get actual num: sqare root\n",
    "np.sqrt(error) # 37536.8 it's predicting avr 37536.8 dollar off"
   ]
  },
  {
   "cell_type": "code",
   "execution_count": 297,
   "id": "5b6b4e85",
   "metadata": {},
   "outputs": [],
   "source": [
    "from sklearn.tree import DecisionTreeRegressor\n",
    "dtree = DecisionTreeRegressor()"
   ]
  },
  {
   "cell_type": "code",
   "execution_count": 298,
   "id": "4193e2b3",
   "metadata": {},
   "outputs": [
    {
     "data": {
      "text/plain": [
       "DecisionTreeRegressor()"
      ]
     },
     "execution_count": 298,
     "metadata": {},
     "output_type": "execute_result"
    }
   ],
   "source": [
    "dtree.fit(X,y)"
   ]
  },
  {
   "cell_type": "code",
   "execution_count": 299,
   "id": "b8c6b3b9",
   "metadata": {},
   "outputs": [],
   "source": [
    "y_pred_dt = dtree.predict(X)"
   ]
  },
  {
   "cell_type": "code",
   "execution_count": 300,
   "id": "2bad1db4",
   "metadata": {},
   "outputs": [
    {
     "name": "stdout",
     "output_type": "stream",
     "text": [
      "error: $26478.44\n"
     ]
    }
   ],
   "source": [
    "error = np.sqrt(mean_squared_error(y,y_pred_dt))\n",
    "print('error: ${:.2f}'.format(error))"
   ]
  },
  {
   "cell_type": "code",
   "execution_count": 301,
   "id": "8912e1c9",
   "metadata": {},
   "outputs": [
    {
     "data": {
      "text/plain": [
       "SVR()"
      ]
     },
     "execution_count": 301,
     "metadata": {},
     "output_type": "execute_result"
    }
   ],
   "source": [
    "# TAKES TOO LONG TIME\n",
    "# from sklearn.svm import SVR\n",
    "# svr = SVR()\n",
    "# svr.fit(X, y)"
   ]
  },
  {
   "cell_type": "code",
   "execution_count": 302,
   "id": "6e888f31",
   "metadata": {},
   "outputs": [
    {
     "name": "stdout",
     "output_type": "stream",
     "text": [
      "error: $45657.30\n"
     ]
    }
   ],
   "source": [
    "# y_pred_svr = svr.predict(X)\n",
    "# error = np.sqrt(mean_squared_error(y, y_pred_svr))\n",
    "# print('error: ${:.2f}'.format(error))"
   ]
  },
  {
   "cell_type": "code",
   "execution_count": 303,
   "id": "2ae609b7",
   "metadata": {},
   "outputs": [
    {
     "data": {
      "text/plain": [
       "RandomForestRegressor()"
      ]
     },
     "execution_count": 303,
     "metadata": {},
     "output_type": "execute_result"
    }
   ],
   "source": [
    "from sklearn.ensemble import RandomForestRegressor\n",
    "rf = RandomForestRegressor()\n",
    "rf.fit(X,y)"
   ]
  },
  {
   "cell_type": "code",
   "execution_count": 304,
   "id": "ffc796e3",
   "metadata": {},
   "outputs": [],
   "source": [
    "y_pred_rf = rf.predict(X)\n",
    "error = np.sqrt(mean_squared_error(y, y_pred_rf))"
   ]
  },
  {
   "cell_type": "code",
   "execution_count": 305,
   "id": "17c3830f",
   "metadata": {},
   "outputs": [
    {
     "name": "stdout",
     "output_type": "stream",
     "text": [
      "error:$26536.69\n"
     ]
    }
   ],
   "source": [
    "print('error:${:.2f}'.format(error))"
   ]
  },
  {
   "cell_type": "code",
   "execution_count": 306,
   "id": "bd20a3d5",
   "metadata": {},
   "outputs": [],
   "source": [
    "from sklearn.model_selection import GridSearchCV #CV = Cross validation"
   ]
  },
  {
   "cell_type": "markdown",
   "id": "92a8cbad",
   "metadata": {},
   "source": [
    "GridSearchCV is a library function that is a member of sklearn's model_selection package. It helps to loop through predefined hyperparameters and fit your estimator (model) on your training set. So, in the end, you can select the best parameters from the listed hyperparameters."
   ]
  },
  {
   "cell_type": "code",
   "execution_count": 307,
   "id": "9f85185d",
   "metadata": {},
   "outputs": [
    {
     "data": {
      "text/plain": [
       "{'max_depth': [None, 2, 4, 6, 8, 10, 12, 14]}"
      ]
     },
     "execution_count": 307,
     "metadata": {},
     "output_type": "execute_result"
    }
   ],
   "source": [
    "max_depth = [None, 2,4,6,8,10,12,14]\n",
    "parameters = {'max_depth':max_depth}\n",
    "parameters"
   ]
  },
  {
   "cell_type": "code",
   "execution_count": 308,
   "id": "8dd9713a",
   "metadata": {},
   "outputs": [
    {
     "data": {
      "text/plain": [
       "GridSearchCV(estimator=DecisionTreeRegressor(random_state=0),\n",
       "             param_grid={'max_depth': [None, 2, 4, 6, 8, 10, 12, 14]},\n",
       "             scoring='neg_mean_squared_error')"
      ]
     },
     "execution_count": 308,
     "metadata": {},
     "output_type": "execute_result"
    }
   ],
   "source": [
    "regressor = DecisionTreeRegressor(random_state=0)\n",
    "gs = GridSearchCV(regressor, parameters, scoring='neg_mean_squared_error')\n",
    "gs.fit(X, y)"
   ]
  },
  {
   "cell_type": "code",
   "execution_count": 309,
   "id": "8eb1fadc",
   "metadata": {},
   "outputs": [
    {
     "name": "stdout",
     "output_type": "stream",
     "text": [
      "regressor error: $ 27372.89\n"
     ]
    }
   ],
   "source": [
    "regressor = gs.best_estimator_   # max_depth=10, random_state=0\n",
    "\n",
    "regressor.fit(X,y)\n",
    "y_pred_regressor = regressor.predict(X)\n",
    "error = np.sqrt(mean_squared_error(y, y_pred_regressor))\n",
    "print('regressor error: $ {:.02f}'.format(error))"
   ]
  },
  {
   "cell_type": "code",
   "execution_count": 310,
   "id": "70048b1a",
   "metadata": {},
   "outputs": [
    {
     "data": {
      "text/html": [
       "<div>\n",
       "<style scoped>\n",
       "    .dataframe tbody tr th:only-of-type {\n",
       "        vertical-align: middle;\n",
       "    }\n",
       "\n",
       "    .dataframe tbody tr th {\n",
       "        vertical-align: top;\n",
       "    }\n",
       "\n",
       "    .dataframe thead th {\n",
       "        text-align: right;\n",
       "    }\n",
       "</style>\n",
       "<table border=\"1\" class=\"dataframe\">\n",
       "  <thead>\n",
       "    <tr style=\"text-align: right;\">\n",
       "      <th></th>\n",
       "      <th>Country</th>\n",
       "      <th>EdLevel</th>\n",
       "      <th>YearsCodePro</th>\n",
       "    </tr>\n",
       "  </thead>\n",
       "  <tbody>\n",
       "    <tr>\n",
       "      <th>9</th>\n",
       "      <td>13</td>\n",
       "      <td>2</td>\n",
       "      <td>4.0</td>\n",
       "    </tr>\n",
       "    <tr>\n",
       "      <th>11</th>\n",
       "      <td>12</td>\n",
       "      <td>0</td>\n",
       "      <td>5.0</td>\n",
       "    </tr>\n",
       "    <tr>\n",
       "      <th>12</th>\n",
       "      <td>4</td>\n",
       "      <td>2</td>\n",
       "      <td>6.0</td>\n",
       "    </tr>\n",
       "    <tr>\n",
       "      <th>16</th>\n",
       "      <td>15</td>\n",
       "      <td>0</td>\n",
       "      <td>2.0</td>\n",
       "    </tr>\n",
       "    <tr>\n",
       "      <th>17</th>\n",
       "      <td>2</td>\n",
       "      <td>0</td>\n",
       "      <td>6.0</td>\n",
       "    </tr>\n",
       "    <tr>\n",
       "      <th>...</th>\n",
       "      <td>...</td>\n",
       "      <td>...</td>\n",
       "      <td>...</td>\n",
       "    </tr>\n",
       "    <tr>\n",
       "      <th>83430</th>\n",
       "      <td>17</td>\n",
       "      <td>2</td>\n",
       "      <td>21.0</td>\n",
       "    </tr>\n",
       "    <tr>\n",
       "      <th>83432</th>\n",
       "      <td>2</td>\n",
       "      <td>0</td>\n",
       "      <td>0.5</td>\n",
       "    </tr>\n",
       "    <tr>\n",
       "      <th>83434</th>\n",
       "      <td>17</td>\n",
       "      <td>0</td>\n",
       "      <td>5.0</td>\n",
       "    </tr>\n",
       "    <tr>\n",
       "      <th>83436</th>\n",
       "      <td>17</td>\n",
       "      <td>1</td>\n",
       "      <td>4.0</td>\n",
       "    </tr>\n",
       "    <tr>\n",
       "      <th>83438</th>\n",
       "      <td>1</td>\n",
       "      <td>3</td>\n",
       "      <td>4.0</td>\n",
       "    </tr>\n",
       "  </tbody>\n",
       "</table>\n",
       "<p>26608 rows × 3 columns</p>\n",
       "</div>"
      ],
      "text/plain": [
       "       Country  EdLevel  YearsCodePro\n",
       "9           13        2           4.0\n",
       "11          12        0           5.0\n",
       "12           4        2           6.0\n",
       "16          15        0           2.0\n",
       "17           2        0           6.0\n",
       "...        ...      ...           ...\n",
       "83430       17        2          21.0\n",
       "83432        2        0           0.5\n",
       "83434       17        0           5.0\n",
       "83436       17        1           4.0\n",
       "83438        1        3           4.0\n",
       "\n",
       "[26608 rows x 3 columns]"
      ]
     },
     "execution_count": 310,
     "metadata": {},
     "output_type": "execute_result"
    }
   ],
   "source": [
    "x = X.copy()\n",
    "x"
   ]
  },
  {
   "cell_type": "markdown",
   "id": "bf8d1cc0",
   "metadata": {},
   "source": [
    "## like getting user input _test 같이"
   ]
  },
  {
   "cell_type": "code",
   "execution_count": 311,
   "id": "b3a9cdd5",
   "metadata": {},
   "outputs": [
    {
     "data": {
      "text/plain": [
       "array([['Spain', 'Bachelor’s degree', '5']], dtype='<U17')"
      ]
     },
     "execution_count": 311,
     "metadata": {},
     "output_type": "execute_result"
    }
   ],
   "source": [
    "# Spain\t'Bachelor’s degree'\t5.0\t46482.0    # LABEL\n",
    "#   12\t       0\t        5.0            # INVERSE LABEL\n",
    "\n",
    "x = np.array([['Spain','Bachelor’s degree', 5]])  \n",
    "x "
   ]
  },
  {
   "cell_type": "code",
   "execution_count": 312,
   "id": "d28b71e6",
   "metadata": {},
   "outputs": [
    {
     "data": {
      "text/plain": [
       "array(['Australia', 'Brazil', 'Canada', 'France', 'Germany', 'India',\n",
       "       'Israel', 'Italy', 'Netherlands', 'Norway', 'Poland',\n",
       "       'Russian Federation', 'Spain', 'Sweden', 'Switzerland', 'Turkey',\n",
       "       'United Kingdom of Great Britain and Northern Ireland',\n",
       "       'United States of America'], dtype=object)"
      ]
     },
     "execution_count": 312,
     "metadata": {},
     "output_type": "execute_result"
    }
   ],
   "source": [
    "encoder_Country.classes_"
   ]
  },
  {
   "cell_type": "code",
   "execution_count": 314,
   "id": "c7ae1d39",
   "metadata": {},
   "outputs": [
    {
     "data": {
      "text/plain": [
       "array(['Bachelor’s degree', 'Less than Bachelors', 'Master’s degree',\n",
       "       'Post grad'], dtype=object)"
      ]
     },
     "execution_count": 314,
     "metadata": {},
     "output_type": "execute_result"
    }
   ],
   "source": [
    "encoder_education.classes_"
   ]
  },
  {
   "cell_type": "code",
   "execution_count": 315,
   "id": "34b80c15",
   "metadata": {},
   "outputs": [
    {
     "data": {
      "text/plain": [
       "array([['12', '0', '5']], dtype='<U17')"
      ]
     },
     "execution_count": 315,
     "metadata": {},
     "output_type": "execute_result"
    }
   ],
   "source": [
    "# giving model the values which are we got from user\n",
    "\n",
    "x[:,0] = encoder_Country.transform(x[:,0])\n",
    "x[:,1] = encoder_education.transform(x[:,1])\n",
    "x "
   ]
  },
  {
   "cell_type": "code",
   "execution_count": 317,
   "id": "489a2959",
   "metadata": {},
   "outputs": [
    {
     "data": {
      "text/plain": [
       "array([[12.,  0.,  5.]])"
      ]
     },
     "execution_count": 317,
     "metadata": {},
     "output_type": "execute_result"
    }
   ],
   "source": [
    "x = x.astype('float')\n",
    "x"
   ]
  },
  {
   "cell_type": "code",
   "execution_count": 318,
   "id": "3eb2c7fe",
   "metadata": {},
   "outputs": [
    {
     "name": "stderr",
     "output_type": "stream",
     "text": [
      "C:\\Users\\admin\\anaconda3\\envs\\ml\\lib\\site-packages\\sklearn\\base.py:441: UserWarning: X does not have valid feature names, but DecisionTreeRegressor was fitted with feature names\n",
      "  warnings.warn(\n"
     ]
    },
    {
     "data": {
      "text/plain": [
       "array([37583.36754177])"
      ]
     },
     "execution_count": 318,
     "metadata": {},
     "output_type": "execute_result"
    }
   ],
   "source": [
    "#               final model we use\n",
    "y_pred_user_val = regressor.predict(x)\n",
    "y_pred_user_val   #<<< ---- DISPLAY THIS VALUE"
   ]
  },
  {
   "cell_type": "markdown",
   "id": "88bcee89",
   "metadata": {},
   "source": [
    "# SAVE OUR MODEL"
   ]
  },
  {
   "cell_type": "markdown",
   "id": "2413e4c5",
   "metadata": {},
   "source": [
    "pickle explanation : https://www.youtube.com/watch?v=KfnhNlD8WZI\n",
    "\n",
    "Solving a problem using ML typically consist of two steps.      \n",
    "step 1: training a model using your training ds     \n",
    "step 2: to ask your questions to the trained model and that will give you an answers.  \n",
    "\n",
    "Often the size of the training data set is pretty huge. Because as the size increases your model becomes more accurate. For example: if you train footboll more and more you become more and more better at this. \n",
    "\n",
    "when your training dataset is so huge, the training step becomes more time consuming.  If you save the train model to a file, you can later on use that same model to make the actual prediction. so, you don't need to train it everytime to ask that almost same question.\n",
    "> you can save your training model as a file with pickle"
   ]
  },
  {
   "cell_type": "code",
   "execution_count": 319,
   "id": "3de6ef89",
   "metadata": {},
   "outputs": [],
   "source": [
    "import pickle"
   ]
  },
  {
   "cell_type": "code",
   "execution_count": 321,
   "id": "d79f7fbd",
   "metadata": {},
   "outputs": [
    {
     "data": {
      "text/plain": [
       "{'model': DecisionTreeRegressor(max_depth=10, random_state=0),\n",
       " 'encoder_Country': LabelEncoder(),\n",
       " 'encoder_education': LabelEncoder()}"
      ]
     },
     "execution_count": 321,
     "metadata": {},
     "output_type": "execute_result"
    }
   ],
   "source": [
    "data = {'model':regressor, \n",
    "        'encoder_Country':encoder_Country,\n",
    "        'encoder_education' : encoder_education}\n",
    "data  # encoder_Country ичинде .classes_ тардан бери алып кеттат"
   ]
  },
  {
   "cell_type": "code",
   "execution_count": 322,
   "id": "8755d0f4",
   "metadata": {},
   "outputs": [],
   "source": [
    "#                          write binary <-important\n",
    "with open('saved_steps.pkl','wb') as file:\n",
    "    pickle.dump(data, file) # data gets saved in file"
   ]
  },
  {
   "cell_type": "code",
   "execution_count": 323,
   "id": "f9cad47d",
   "metadata": {},
   "outputs": [],
   "source": [
    "# check a saved file by loading it"
   ]
  },
  {
   "cell_type": "code",
   "execution_count": 324,
   "id": "f896c022",
   "metadata": {},
   "outputs": [],
   "source": [
    "#                           read binary\n",
    "with open('saved_steps.pkl', 'rb') as file:\n",
    "    data = pickle.load(file)"
   ]
  },
  {
   "cell_type": "code",
   "execution_count": 325,
   "id": "1fc6db16",
   "metadata": {},
   "outputs": [],
   "source": [
    "regressor_loaded = data['model']\n",
    "encoder_Country = data['encoder_Country']\n",
    "encoder_education = data['encoder_education']"
   ]
  },
  {
   "cell_type": "code",
   "execution_count": 326,
   "id": "7118b486",
   "metadata": {},
   "outputs": [
    {
     "name": "stderr",
     "output_type": "stream",
     "text": [
      "C:\\Users\\admin\\anaconda3\\envs\\ml\\lib\\site-packages\\sklearn\\base.py:441: UserWarning: X does not have valid feature names, but DecisionTreeRegressor was fitted with feature names\n",
      "  warnings.warn(\n"
     ]
    },
    {
     "data": {
      "text/plain": [
       "array([37583.36754177])"
      ]
     },
     "execution_count": 326,
     "metadata": {},
     "output_type": "execute_result"
    }
   ],
   "source": [
    "y_pred_after_loaded_again = regressor_loaded.predict(x)\n",
    "y_pred_after_loaded_again"
   ]
  },
  {
   "cell_type": "code",
   "execution_count": null,
   "id": "30a24051",
   "metadata": {},
   "outputs": [],
   "source": []
  }
 ],
 "metadata": {
  "kernelspec": {
   "display_name": "ml",
   "language": "python",
   "name": "ml"
  },
  "language_info": {
   "codemirror_mode": {
    "name": "ipython",
    "version": 3
   },
   "file_extension": ".py",
   "mimetype": "text/x-python",
   "name": "python",
   "nbconvert_exporter": "python",
   "pygments_lexer": "ipython3",
   "version": "3.9.7"
  }
 },
 "nbformat": 4,
 "nbformat_minor": 5
}
